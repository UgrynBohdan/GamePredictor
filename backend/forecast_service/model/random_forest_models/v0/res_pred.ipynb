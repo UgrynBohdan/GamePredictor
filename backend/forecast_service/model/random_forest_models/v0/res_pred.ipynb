{
 "cells": [
  {
   "cell_type": "code",
   "execution_count": 1,
   "id": "30a9a2c5",
   "metadata": {},
   "outputs": [],
   "source": [
    "import pandas as pd"
   ]
  },
  {
   "cell_type": "code",
   "execution_count": 2,
   "id": "0f4c6bc7",
   "metadata": {},
   "outputs": [],
   "source": [
    "clubs = pd.read_csv('../../../data/raw/clubs.csv')"
   ]
  },
  {
   "cell_type": "code",
   "execution_count": 3,
   "id": "b3e7ec4e",
   "metadata": {},
   "outputs": [],
   "source": [
    "games = pd.read_csv('../../../data/raw/games.csv')"
   ]
  },
  {
   "cell_type": "code",
   "execution_count": 4,
   "id": "b86bb671",
   "metadata": {},
   "outputs": [],
   "source": [
    "competitions = pd.read_csv('../../../data/raw/competitions.csv')"
   ]
  },
  {
   "cell_type": "code",
   "execution_count": 5,
   "id": "76fc99fa",
   "metadata": {},
   "outputs": [
    {
     "data": {
      "text/html": [
       "<div>\n",
       "<style scoped>\n",
       "    .dataframe tbody tr th:only-of-type {\n",
       "        vertical-align: middle;\n",
       "    }\n",
       "\n",
       "    .dataframe tbody tr th {\n",
       "        vertical-align: top;\n",
       "    }\n",
       "\n",
       "    .dataframe thead th {\n",
       "        text-align: right;\n",
       "    }\n",
       "</style>\n",
       "<table border=\"1\" class=\"dataframe\">\n",
       "  <thead>\n",
       "    <tr style=\"text-align: right;\">\n",
       "      <th></th>\n",
       "      <th>club_id</th>\n",
       "      <th>club_code</th>\n",
       "      <th>name</th>\n",
       "      <th>domestic_competition_id</th>\n",
       "      <th>total_market_value</th>\n",
       "      <th>squad_size</th>\n",
       "      <th>average_age</th>\n",
       "      <th>foreigners_number</th>\n",
       "      <th>foreigners_percentage</th>\n",
       "      <th>national_team_players</th>\n",
       "      <th>stadium_name</th>\n",
       "      <th>stadium_seats</th>\n",
       "      <th>net_transfer_record</th>\n",
       "      <th>coach_name</th>\n",
       "      <th>last_season</th>\n",
       "      <th>filename</th>\n",
       "      <th>url</th>\n",
       "    </tr>\n",
       "  </thead>\n",
       "  <tbody>\n",
       "    <tr>\n",
       "      <th>424</th>\n",
       "      <td>347</td>\n",
       "      <td>fc-metz</td>\n",
       "      <td>FC Metz</td>\n",
       "      <td>FR1</td>\n",
       "      <td>NaN</td>\n",
       "      <td>26</td>\n",
       "      <td>25.0</td>\n",
       "      <td>19</td>\n",
       "      <td>73.1</td>\n",
       "      <td>7</td>\n",
       "      <td>Stade Saint-Symphorien</td>\n",
       "      <td>28786</td>\n",
       "      <td>+€21.90m</td>\n",
       "      <td>NaN</td>\n",
       "      <td>2023</td>\n",
       "      <td>../data/raw/transfermarkt-scraper/2023/clubs.j...</td>\n",
       "      <td>https://www.transfermarkt.co.uk/fc-metz/starts...</td>\n",
       "    </tr>\n",
       "  </tbody>\n",
       "</table>\n",
       "</div>"
      ],
      "text/plain": [
       "     club_id club_code     name domestic_competition_id  total_market_value  \\\n",
       "424      347   fc-metz  FC Metz                     FR1                 NaN   \n",
       "\n",
       "     squad_size  average_age  foreigners_number  foreigners_percentage  \\\n",
       "424          26         25.0                 19                   73.1   \n",
       "\n",
       "     national_team_players            stadium_name  stadium_seats  \\\n",
       "424                      7  Stade Saint-Symphorien          28786   \n",
       "\n",
       "    net_transfer_record  coach_name  last_season  \\\n",
       "424            +€21.90m         NaN         2023   \n",
       "\n",
       "                                              filename  \\\n",
       "424  ../data/raw/transfermarkt-scraper/2023/clubs.j...   \n",
       "\n",
       "                                                   url  \n",
       "424  https://www.transfermarkt.co.uk/fc-metz/starts...  "
      ]
     },
     "execution_count": 5,
     "metadata": {},
     "output_type": "execute_result"
    }
   ],
   "source": [
    "clubs[clubs['name'].str.contains('FC Metz')]"
   ]
  },
  {
   "cell_type": "code",
   "execution_count": 6,
   "id": "f799d616",
   "metadata": {},
   "outputs": [
    {
     "data": {
      "text/html": [
       "<div>\n",
       "<style scoped>\n",
       "    .dataframe tbody tr th:only-of-type {\n",
       "        vertical-align: middle;\n",
       "    }\n",
       "\n",
       "    .dataframe tbody tr th {\n",
       "        vertical-align: top;\n",
       "    }\n",
       "\n",
       "    .dataframe thead th {\n",
       "        text-align: right;\n",
       "    }\n",
       "</style>\n",
       "<table border=\"1\" class=\"dataframe\">\n",
       "  <thead>\n",
       "    <tr style=\"text-align: right;\">\n",
       "      <th></th>\n",
       "      <th>competition_id</th>\n",
       "      <th>competition_code</th>\n",
       "      <th>name</th>\n",
       "      <th>sub_type</th>\n",
       "      <th>type</th>\n",
       "      <th>country_id</th>\n",
       "      <th>country_name</th>\n",
       "      <th>domestic_league_code</th>\n",
       "      <th>confederation</th>\n",
       "      <th>url</th>\n",
       "      <th>is_major_national_league</th>\n",
       "    </tr>\n",
       "  </thead>\n",
       "  <tbody>\n",
       "  </tbody>\n",
       "</table>\n",
       "</div>"
      ],
      "text/plain": [
       "Empty DataFrame\n",
       "Columns: [competition_id, competition_code, name, sub_type, type, country_id, country_name, domestic_league_code, confederation, url, is_major_national_league]\n",
       "Index: []"
      ]
     },
     "execution_count": 6,
     "metadata": {},
     "output_type": "execute_result"
    }
   ],
   "source": [
    "competitions[competitions['competition_code'].str.contains('fr')]"
   ]
  },
  {
   "cell_type": "code",
   "execution_count": 7,
   "id": "4046cc0f",
   "metadata": {},
   "outputs": [
    {
     "data": {
      "text/html": [
       "<div>\n",
       "<style scoped>\n",
       "    .dataframe tbody tr th:only-of-type {\n",
       "        vertical-align: middle;\n",
       "    }\n",
       "\n",
       "    .dataframe tbody tr th {\n",
       "        vertical-align: top;\n",
       "    }\n",
       "\n",
       "    .dataframe thead th {\n",
       "        text-align: right;\n",
       "    }\n",
       "</style>\n",
       "<table border=\"1\" class=\"dataframe\">\n",
       "  <thead>\n",
       "    <tr style=\"text-align: right;\">\n",
       "      <th></th>\n",
       "      <th>competition_id</th>\n",
       "      <th>competition_code</th>\n",
       "      <th>name</th>\n",
       "      <th>sub_type</th>\n",
       "      <th>type</th>\n",
       "      <th>country_id</th>\n",
       "      <th>country_name</th>\n",
       "      <th>domestic_league_code</th>\n",
       "      <th>confederation</th>\n",
       "      <th>url</th>\n",
       "      <th>is_major_national_league</th>\n",
       "    </tr>\n",
       "  </thead>\n",
       "  <tbody>\n",
       "    <tr>\n",
       "      <th>10</th>\n",
       "      <td>FR1</td>\n",
       "      <td>ligue-1</td>\n",
       "      <td>ligue-1</td>\n",
       "      <td>first_tier</td>\n",
       "      <td>domestic_league</td>\n",
       "      <td>50</td>\n",
       "      <td>France</td>\n",
       "      <td>FR1</td>\n",
       "      <td>europa</td>\n",
       "      <td>https://www.transfermarkt.co.uk/ligue-1/starts...</td>\n",
       "      <td>True</td>\n",
       "    </tr>\n",
       "    <tr>\n",
       "      <th>43</th>\n",
       "      <td>FRCH</td>\n",
       "      <td>trophee-des-champions</td>\n",
       "      <td>trophee-des-champions</td>\n",
       "      <td>domestic_super_cup</td>\n",
       "      <td>other</td>\n",
       "      <td>50</td>\n",
       "      <td>France</td>\n",
       "      <td>FR1</td>\n",
       "      <td>europa</td>\n",
       "      <td>https://www.transfermarkt.co.uk/trophee-des-ch...</td>\n",
       "      <td>False</td>\n",
       "    </tr>\n",
       "  </tbody>\n",
       "</table>\n",
       "</div>"
      ],
      "text/plain": [
       "   competition_id       competition_code                   name  \\\n",
       "10            FR1                ligue-1                ligue-1   \n",
       "43           FRCH  trophee-des-champions  trophee-des-champions   \n",
       "\n",
       "              sub_type             type  country_id country_name  \\\n",
       "10          first_tier  domestic_league          50       France   \n",
       "43  domestic_super_cup            other          50       France   \n",
       "\n",
       "   domestic_league_code confederation  \\\n",
       "10                  FR1        europa   \n",
       "43                  FR1        europa   \n",
       "\n",
       "                                                  url  \\\n",
       "10  https://www.transfermarkt.co.uk/ligue-1/starts...   \n",
       "43  https://www.transfermarkt.co.uk/trophee-des-ch...   \n",
       "\n",
       "    is_major_national_league  \n",
       "10                      True  \n",
       "43                     False  "
      ]
     },
     "execution_count": 7,
     "metadata": {},
     "output_type": "execute_result"
    }
   ],
   "source": [
    "competitions[competitions['country_name'] == 'France']"
   ]
  },
  {
   "cell_type": "code",
   "execution_count": 8,
   "id": "e48280c0",
   "metadata": {},
   "outputs": [
    {
     "data": {
      "text/html": [
       "<div>\n",
       "<style scoped>\n",
       "    .dataframe tbody tr th:only-of-type {\n",
       "        vertical-align: middle;\n",
       "    }\n",
       "\n",
       "    .dataframe tbody tr th {\n",
       "        vertical-align: top;\n",
       "    }\n",
       "\n",
       "    .dataframe thead th {\n",
       "        text-align: right;\n",
       "    }\n",
       "</style>\n",
       "<table border=\"1\" class=\"dataframe\">\n",
       "  <thead>\n",
       "    <tr style=\"text-align: right;\">\n",
       "      <th></th>\n",
       "      <th>club_id</th>\n",
       "      <th>club_code</th>\n",
       "      <th>name</th>\n",
       "      <th>domestic_competition_id</th>\n",
       "      <th>total_market_value</th>\n",
       "      <th>squad_size</th>\n",
       "      <th>average_age</th>\n",
       "      <th>foreigners_number</th>\n",
       "      <th>foreigners_percentage</th>\n",
       "      <th>national_team_players</th>\n",
       "      <th>stadium_name</th>\n",
       "      <th>stadium_seats</th>\n",
       "      <th>net_transfer_record</th>\n",
       "      <th>coach_name</th>\n",
       "      <th>last_season</th>\n",
       "      <th>filename</th>\n",
       "      <th>url</th>\n",
       "    </tr>\n",
       "  </thead>\n",
       "  <tbody>\n",
       "    <tr>\n",
       "      <th>150</th>\n",
       "      <td>1421</td>\n",
       "      <td>stade-reims</td>\n",
       "      <td>Stade de Reims</td>\n",
       "      <td>FR1</td>\n",
       "      <td>NaN</td>\n",
       "      <td>25</td>\n",
       "      <td>24.9</td>\n",
       "      <td>19</td>\n",
       "      <td>76.0</td>\n",
       "      <td>8</td>\n",
       "      <td>Stade Auguste-Delaune</td>\n",
       "      <td>20519</td>\n",
       "      <td>+€39.35m</td>\n",
       "      <td>NaN</td>\n",
       "      <td>2024</td>\n",
       "      <td>../data/raw/transfermarkt-scraper/2024/clubs.j...</td>\n",
       "      <td>https://www.transfermarkt.co.uk/stade-reims/st...</td>\n",
       "    </tr>\n",
       "  </tbody>\n",
       "</table>\n",
       "</div>"
      ],
      "text/plain": [
       "     club_id    club_code            name domestic_competition_id  \\\n",
       "150     1421  stade-reims  Stade de Reims                     FR1   \n",
       "\n",
       "     total_market_value  squad_size  average_age  foreigners_number  \\\n",
       "150                 NaN          25         24.9                 19   \n",
       "\n",
       "     foreigners_percentage  national_team_players           stadium_name  \\\n",
       "150                   76.0                      8  Stade Auguste-Delaune   \n",
       "\n",
       "     stadium_seats net_transfer_record  coach_name  last_season  \\\n",
       "150          20519            +€39.35m         NaN         2024   \n",
       "\n",
       "                                              filename  \\\n",
       "150  ../data/raw/transfermarkt-scraper/2024/clubs.j...   \n",
       "\n",
       "                                                   url  \n",
       "150  https://www.transfermarkt.co.uk/stade-reims/st...  "
      ]
     },
     "execution_count": 8,
     "metadata": {},
     "output_type": "execute_result"
    }
   ],
   "source": [
    "clubs[clubs['name'] == 'Stade de Reims']"
   ]
  },
  {
   "cell_type": "code",
   "execution_count": 9,
   "id": "fd530cac",
   "metadata": {},
   "outputs": [],
   "source": [
    "games_dropna = games.dropna(inplace=False)"
   ]
  },
  {
   "cell_type": "code",
   "execution_count": 10,
   "id": "48daca8a",
   "metadata": {},
   "outputs": [
    {
     "data": {
      "text/plain": [
       "(41792, 23)"
      ]
     },
     "execution_count": 10,
     "metadata": {},
     "output_type": "execute_result"
    }
   ],
   "source": [
    "games_dropna.shape"
   ]
  },
  {
   "cell_type": "code",
   "execution_count": 11,
   "id": "ca76366a",
   "metadata": {},
   "outputs": [
    {
     "data": {
      "text/plain": [
       "(74026, 23)"
      ]
     },
     "execution_count": 11,
     "metadata": {},
     "output_type": "execute_result"
    }
   ],
   "source": [
    "games.shape"
   ]
  },
  {
   "cell_type": "code",
   "execution_count": 14,
   "id": "eb51f5fd",
   "metadata": {},
   "outputs": [
    {
     "data": {
      "text/plain": [
       "2001     Eric Wattellier\n",
       "2004     Eric Wattellier\n",
       "2489     Eric Wattellier\n",
       "2492     Eric Wattellier\n",
       "2961     Eric Wattellier\n",
       "              ...       \n",
       "70170    Eric Wattellier\n",
       "70332    Eric Wattellier\n",
       "70637    Eric Wattellier\n",
       "71577    Eric Wattellier\n",
       "73841    Eric Wattellier\n",
       "Name: referee, Length: 104, dtype: object"
      ]
     },
     "execution_count": 14,
     "metadata": {},
     "output_type": "execute_result"
    }
   ],
   "source": [
    "games_dropna[games_dropna['referee'].str.contains('Wattellier')]['referee']"
   ]
  },
  {
   "cell_type": "code",
   "execution_count": null,
   "id": "d7b0ea57",
   "metadata": {},
   "outputs": [],
   "source": []
  }
 ],
 "metadata": {
  "kernelspec": {
   "display_name": "Python 3",
   "language": "python",
   "name": "python3"
  },
  "language_info": {
   "codemirror_mode": {
    "name": "ipython",
    "version": 3
   },
   "file_extension": ".py",
   "mimetype": "text/x-python",
   "name": "python",
   "nbconvert_exporter": "python",
   "pygments_lexer": "ipython3",
   "version": "3.12.2"
  }
 },
 "nbformat": 4,
 "nbformat_minor": 5
}
