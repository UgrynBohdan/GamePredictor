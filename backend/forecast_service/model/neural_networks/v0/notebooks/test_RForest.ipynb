{
 "cells": [
  {
   "cell_type": "code",
   "execution_count": 1,
   "id": "eda3fe14",
   "metadata": {},
   "outputs": [],
   "source": [
    "import pandas as pd"
   ]
  },
  {
   "cell_type": "code",
   "execution_count": 2,
   "id": "8f7f5a4a",
   "metadata": {},
   "outputs": [],
   "source": [
    "df = pd.read_csv('../res/prepared_data.csv')"
   ]
  },
  {
   "cell_type": "code",
   "execution_count": 4,
   "id": "b1c9d1d4",
   "metadata": {},
   "outputs": [],
   "source": [
    "from sklearn.ensemble import RandomForestRegressor  # або RandomForestClassifier для класифікації\n",
    "from sklearn.model_selection import train_test_split\n",
    "\n",
    "# 1. Виберіть ознаки (X) та ціль (y)\n",
    "X = df.drop(['home_club_goals', 'away_club_goals'], axis=1)\n",
    "y = df[['home_club_goals', 'away_club_goals']]  # для регресії двох цілей\n",
    "\n",
    "X_train, X_test, y_train, y_test = train_test_split(X, y, test_size=0.2, random_state=42)\n",
    "\n",
    "\n",
    "# 2. Створіть і навчіть модель\n",
    "model = RandomForestRegressor(n_estimators=100, random_state=42)\n",
    "model.fit(X_train, y_train)\n",
    "\n",
    "# 3. Передбачення\n",
    "y_pred = model.predict(X_test)"
   ]
  },
  {
   "cell_type": "code",
   "execution_count": 5,
   "id": "1a4b62fd",
   "metadata": {},
   "outputs": [
    {
     "name": "stdout",
     "output_type": "stream",
     "text": [
      "MSE: 1.4188156821678892\n",
      "MAE (L1): 0.9245046161737074\n",
      "R^2: 0.15463478465944297\n",
      "Custom accuracy (обидва <= 0.5): 0.11848179175927509\n"
     ]
    }
   ],
   "source": [
    "from sklearn.metrics import mean_squared_error, mean_absolute_error, r2_score\n",
    "import numpy as np\n",
    "\n",
    "# MSE для кожної цілі\n",
    "mse = mean_squared_error(y_test, y_pred)\n",
    "print(\"MSE:\", mse)\n",
    "\n",
    "# L1 (MAE)\n",
    "mae = mean_absolute_error(y_test, y_pred)\n",
    "print(\"MAE (L1):\", mae)\n",
    "\n",
    "# R^2\n",
    "r2 = r2_score(y_test, y_pred)\n",
    "print(\"R^2:\", r2)\n",
    "\n",
    "# \"Accuracy\" — обидва передбачення в межах 0.5 від істинного значення\n",
    "diff = np.abs(y_pred - y_test.values)\n",
    "correct = np.all(diff <= 0.5, axis=1)  # True якщо і home, і away в межах 0.5\n",
    "accuracy = np.mean(correct)\n",
    "print(\"Custom accuracy (обидва <= 0.5):\", accuracy)"
   ]
  },
  {
   "cell_type": "code",
   "execution_count": 6,
   "id": "4970c512",
   "metadata": {},
   "outputs": [
    {
     "data": {
      "text/html": [
       "<div>\n",
       "<style scoped>\n",
       "    .dataframe tbody tr th:only-of-type {\n",
       "        vertical-align: middle;\n",
       "    }\n",
       "\n",
       "    .dataframe tbody tr th {\n",
       "        vertical-align: top;\n",
       "    }\n",
       "\n",
       "    .dataframe thead th {\n",
       "        text-align: right;\n",
       "    }\n",
       "</style>\n",
       "<table border=\"1\" class=\"dataframe\">\n",
       "  <thead>\n",
       "    <tr style=\"text-align: right;\">\n",
       "      <th></th>\n",
       "      <th>total_is_win_home</th>\n",
       "      <th>total_is_win_away</th>\n",
       "    </tr>\n",
       "  </thead>\n",
       "  <tbody>\n",
       "    <tr>\n",
       "      <th>0</th>\n",
       "      <td>-0.089468</td>\n",
       "      <td>-0.823074</td>\n",
       "    </tr>\n",
       "    <tr>\n",
       "      <th>1</th>\n",
       "      <td>-1.374058</td>\n",
       "      <td>-0.254463</td>\n",
       "    </tr>\n",
       "    <tr>\n",
       "      <th>2</th>\n",
       "      <td>1.545465</td>\n",
       "      <td>-1.374962</td>\n",
       "    </tr>\n",
       "    <tr>\n",
       "      <th>3</th>\n",
       "      <td>-1.374058</td>\n",
       "      <td>0.498112</td>\n",
       "    </tr>\n",
       "    <tr>\n",
       "      <th>4</th>\n",
       "      <td>1.545465</td>\n",
       "      <td>-0.823074</td>\n",
       "    </tr>\n",
       "  </tbody>\n",
       "</table>\n",
       "</div>"
      ],
      "text/plain": [
       "   total_is_win_home  total_is_win_away\n",
       "0          -0.089468          -0.823074\n",
       "1          -1.374058          -0.254463\n",
       "2           1.545465          -1.374962\n",
       "3          -1.374058           0.498112\n",
       "4           1.545465          -0.823074"
      ]
     },
     "execution_count": 6,
     "metadata": {},
     "output_type": "execute_result"
    }
   ],
   "source": [
    "df[['total_is_win_home', 'total_is_win_away',]].head()"
   ]
  }
 ],
 "metadata": {
  "kernelspec": {
   "display_name": "Python 3",
   "language": "python",
   "name": "python3"
  },
  "language_info": {
   "codemirror_mode": {
    "name": "ipython",
    "version": 3
   },
   "file_extension": ".py",
   "mimetype": "text/x-python",
   "name": "python",
   "nbconvert_exporter": "python",
   "pygments_lexer": "ipython3",
   "version": "3.12.2"
  }
 },
 "nbformat": 4,
 "nbformat_minor": 5
}
