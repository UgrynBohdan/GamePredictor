{
 "cells": [
  {
   "cell_type": "code",
   "execution_count": 1,
   "id": "eda3fe14",
   "metadata": {},
   "outputs": [],
   "source": [
    "import pandas as pd"
   ]
  },
  {
   "cell_type": "code",
   "execution_count": 2,
   "id": "8f7f5a4a",
   "metadata": {},
   "outputs": [],
   "source": [
    "df = pd.read_csv('../res/prepared_data.csv')"
   ]
  },
  {
   "cell_type": "code",
   "execution_count": 3,
   "id": "b1c9d1d4",
   "metadata": {},
   "outputs": [],
   "source": [
    "from sklearn.ensemble import RandomForestRegressor  # або RandomForestClassifier для класифікації\n",
    "from sklearn.model_selection import train_test_split\n",
    "\n",
    "# 1. Виберіть ознаки (X) та ціль (y)\n",
    "X = df.drop(['home_club_goals', 'away_club_goals'], axis=1)\n",
    "y = df[['home_club_goals', 'away_club_goals']]  # для регресії двох цілей\n",
    "\n",
    "X_train, X_test, y_train, y_test = train_test_split(X, y, test_size=0.2, random_state=42)\n",
    "\n",
    "\n",
    "# 2. Створіть і навчіть модель\n",
    "model = RandomForestRegressor(n_estimators=100, random_state=42)\n",
    "model.fit(X_train, y_train)\n",
    "\n",
    "# 3. Передбачення\n",
    "y_pred = model.predict(X_test)"
   ]
  },
  {
   "cell_type": "code",
   "execution_count": 4,
   "id": "51633b3a",
   "metadata": {},
   "outputs": [],
   "source": [
    "import joblib\n",
    "\n",
    "scaler = joblib.load('../res/scaler_y.joblib')"
   ]
  },
  {
   "cell_type": "code",
   "execution_count": 8,
   "id": "1a4b62fd",
   "metadata": {},
   "outputs": [
    {
     "name": "stdout",
     "output_type": "stream",
     "text": [
      "MSE: 1.4130086040348728\n",
      "MAE (L1): 0.9222614976919175\n",
      "R^2: 0.15815700266295818\n",
      "Custom accuracy (обидва <= 0.5): 0.1174559753804069\n",
      "W/D/L accuracy: 0.5811249786288254\n"
     ]
    }
   ],
   "source": [
    "from sklearn.metrics import mean_squared_error, mean_absolute_error, r2_score\n",
    "import numpy as np\n",
    "\n",
    "y_test_unscale = scaler.inverse_transform(y_test)\n",
    "y_pred_unscale = scaler.inverse_transform(y_pred)\n",
    "\n",
    "# MSE для кожної цілі\n",
    "mse = mean_squared_error(y_test_unscale, y_pred_unscale)\n",
    "print(\"MSE:\", mse)\n",
    "\n",
    "# L1 (MAE)\n",
    "mae = mean_absolute_error(y_test_unscale, y_pred_unscale)\n",
    "print(\"MAE (L1):\", mae)\n",
    "\n",
    "# R^2\n",
    "r2 = r2_score(y_test_unscale, y_pred_unscale)\n",
    "print(\"R^2:\", r2)\n",
    "\n",
    "# \"Accuracy\" — обидва передбачення в межах 0.5 від істинного значення\n",
    "diff = np.abs(y_pred_unscale - y_test_unscale)\n",
    "correct = np.all(diff <= 0.5, axis=1)  # True якщо і home, і away в межах 0.5\n",
    "accuracy = np.mean(correct)\n",
    "print(\"Custom accuracy (обидва <= 0.5):\", accuracy)\n",
    "\n",
    "# Функція для визначення класу результату\n",
    "def get_result_class(goals):\n",
    "    # goals: масив [n_samples, 2] (home, away)\n",
    "    diff = goals[:, 0] - goals[:, 1]\n",
    "    res = np.zeros_like(diff)\n",
    "    res[diff > 0] = 1    # перемога домашньої\n",
    "    res[diff < 0] = -1   # поразка домашньої\n",
    "    # нічия залишиться 0\n",
    "    return res\n",
    "\n",
    "# Класи для справжніх і передбачених результатів\n",
    "true_result = get_result_class(y_test_unscale)\n",
    "pred_result = get_result_class(y_pred_unscale)\n",
    "\n",
    "# Accuracy по W/D/L\n",
    "result_accuracy = np.mean(true_result == pred_result)\n",
    "print(\"W/D/L accuracy:\", result_accuracy)"
   ]
  }
 ],
 "metadata": {
  "kernelspec": {
   "display_name": "Python 3",
   "language": "python",
   "name": "python3"
  },
  "language_info": {
   "codemirror_mode": {
    "name": "ipython",
    "version": 3
   },
   "file_extension": ".py",
   "mimetype": "text/x-python",
   "name": "python",
   "nbconvert_exporter": "python",
   "pygments_lexer": "ipython3",
   "version": "3.12.2"
  }
 },
 "nbformat": 4,
 "nbformat_minor": 5
}
