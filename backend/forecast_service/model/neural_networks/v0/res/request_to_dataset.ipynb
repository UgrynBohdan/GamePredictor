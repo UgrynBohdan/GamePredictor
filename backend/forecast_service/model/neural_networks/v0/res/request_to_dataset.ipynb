{
 "cells": [
  {
   "cell_type": "code",
   "execution_count": 1,
   "id": "fb76d314",
   "metadata": {},
   "outputs": [],
   "source": [
    "import json\n",
    "import pandas as pd\n",
    "import joblib\n",
    "pd.set_option('display.max_columns', 200)\n",
    "pd.set_option('display.max_rows', 200)"
   ]
  },
  {
   "cell_type": "code",
   "execution_count": 2,
   "id": "79f23e68",
   "metadata": {},
   "outputs": [],
   "source": [
    "X = joblib.load('./transformers/X_columns.joblib')"
   ]
  },
  {
   "cell_type": "code",
   "execution_count": 3,
   "id": "89c78f6f",
   "metadata": {},
   "outputs": [],
   "source": [
    "df = pd.DataFrame()\n",
    "df[X] = None\n",
    "df['competition_id'] = [0]"
   ]
  },
  {
   "cell_type": "code",
   "execution_count": 4,
   "id": "32ba2e22",
   "metadata": {},
   "outputs": [
    {
     "data": {
      "text/html": [
       "<div>\n",
       "<style scoped>\n",
       "    .dataframe tbody tr th:only-of-type {\n",
       "        vertical-align: middle;\n",
       "    }\n",
       "\n",
       "    .dataframe tbody tr th {\n",
       "        vertical-align: top;\n",
       "    }\n",
       "\n",
       "    .dataframe thead th {\n",
       "        text-align: right;\n",
       "    }\n",
       "</style>\n",
       "<table border=\"1\" class=\"dataframe\">\n",
       "  <thead>\n",
       "    <tr style=\"text-align: right;\">\n",
       "      <th></th>\n",
       "      <th>competition_id</th>\n",
       "      <th>season</th>\n",
       "      <th>round</th>\n",
       "      <th>home_club_id</th>\n",
       "      <th>away_club_id</th>\n",
       "      <th>home_club_position</th>\n",
       "      <th>away_club_position</th>\n",
       "      <th>home_club_manager_name</th>\n",
       "      <th>away_club_manager_name</th>\n",
       "      <th>attendance</th>\n",
       "      <th>referee</th>\n",
       "      <th>name</th>\n",
       "      <th>sub_type</th>\n",
       "      <th>type</th>\n",
       "      <th>country_id</th>\n",
       "      <th>is_major_national_league</th>\n",
       "      <th>squad_size_home</th>\n",
       "      <th>average_age_home</th>\n",
       "      <th>foreigners_number_home</th>\n",
       "      <th>foreigners_percentage_home</th>\n",
       "      <th>national_team_players_home</th>\n",
       "      <th>stadium_seats_home</th>\n",
       "      <th>last_season_home</th>\n",
       "      <th>total_market_value_home</th>\n",
       "      <th>total_market_value_max_home</th>\n",
       "      <th>total_is_win_home</th>\n",
       "      <th>squad_size_away</th>\n",
       "      <th>average_age_away</th>\n",
       "      <th>foreigners_number_away</th>\n",
       "      <th>foreigners_percentage_away</th>\n",
       "      <th>national_team_players_away</th>\n",
       "      <th>stadium_seats_away</th>\n",
       "      <th>last_season_away</th>\n",
       "      <th>total_market_value_away</th>\n",
       "      <th>total_market_value_max_away</th>\n",
       "      <th>total_is_win_away</th>\n",
       "      <th>year</th>\n",
       "      <th>month</th>\n",
       "      <th>day</th>\n",
       "      <th>dayofweek</th>\n",
       "      <th>home_club_formation_code</th>\n",
       "      <th>away_club_formation_code</th>\n",
       "      <th>net_transfer_record_home_num</th>\n",
       "      <th>net_transfer_record_away_num</th>\n",
       "      <th>stadium_code</th>\n",
       "      <th>stadium_name_home_code</th>\n",
       "      <th>stadium_name_away_code</th>\n",
       "    </tr>\n",
       "  </thead>\n",
       "  <tbody>\n",
       "    <tr>\n",
       "      <th>0</th>\n",
       "      <td>0</td>\n",
       "      <td>NaN</td>\n",
       "      <td>NaN</td>\n",
       "      <td>NaN</td>\n",
       "      <td>NaN</td>\n",
       "      <td>NaN</td>\n",
       "      <td>NaN</td>\n",
       "      <td>NaN</td>\n",
       "      <td>NaN</td>\n",
       "      <td>NaN</td>\n",
       "      <td>NaN</td>\n",
       "      <td>NaN</td>\n",
       "      <td>NaN</td>\n",
       "      <td>NaN</td>\n",
       "      <td>NaN</td>\n",
       "      <td>NaN</td>\n",
       "      <td>NaN</td>\n",
       "      <td>NaN</td>\n",
       "      <td>NaN</td>\n",
       "      <td>NaN</td>\n",
       "      <td>NaN</td>\n",
       "      <td>NaN</td>\n",
       "      <td>NaN</td>\n",
       "      <td>NaN</td>\n",
       "      <td>NaN</td>\n",
       "      <td>NaN</td>\n",
       "      <td>NaN</td>\n",
       "      <td>NaN</td>\n",
       "      <td>NaN</td>\n",
       "      <td>NaN</td>\n",
       "      <td>NaN</td>\n",
       "      <td>NaN</td>\n",
       "      <td>NaN</td>\n",
       "      <td>NaN</td>\n",
       "      <td>NaN</td>\n",
       "      <td>NaN</td>\n",
       "      <td>NaN</td>\n",
       "      <td>NaN</td>\n",
       "      <td>NaN</td>\n",
       "      <td>NaN</td>\n",
       "      <td>NaN</td>\n",
       "      <td>NaN</td>\n",
       "      <td>NaN</td>\n",
       "      <td>NaN</td>\n",
       "      <td>NaN</td>\n",
       "      <td>NaN</td>\n",
       "      <td>NaN</td>\n",
       "    </tr>\n",
       "  </tbody>\n",
       "</table>\n",
       "</div>"
      ],
      "text/plain": [
       "   competition_id season round home_club_id away_club_id home_club_position  \\\n",
       "0               0    NaN   NaN          NaN          NaN                NaN   \n",
       "\n",
       "  away_club_position home_club_manager_name away_club_manager_name attendance  \\\n",
       "0                NaN                    NaN                    NaN        NaN   \n",
       "\n",
       "  referee name sub_type type country_id is_major_national_league  \\\n",
       "0     NaN  NaN      NaN  NaN        NaN                      NaN   \n",
       "\n",
       "  squad_size_home average_age_home foreigners_number_home  \\\n",
       "0             NaN              NaN                    NaN   \n",
       "\n",
       "  foreigners_percentage_home national_team_players_home stadium_seats_home  \\\n",
       "0                        NaN                        NaN                NaN   \n",
       "\n",
       "  last_season_home total_market_value_home total_market_value_max_home  \\\n",
       "0              NaN                     NaN                         NaN   \n",
       "\n",
       "  total_is_win_home squad_size_away average_age_away foreigners_number_away  \\\n",
       "0               NaN             NaN              NaN                    NaN   \n",
       "\n",
       "  foreigners_percentage_away national_team_players_away stadium_seats_away  \\\n",
       "0                        NaN                        NaN                NaN   \n",
       "\n",
       "  last_season_away total_market_value_away total_market_value_max_away  \\\n",
       "0              NaN                     NaN                         NaN   \n",
       "\n",
       "  total_is_win_away year month  day dayofweek home_club_formation_code  \\\n",
       "0               NaN  NaN   NaN  NaN       NaN                      NaN   \n",
       "\n",
       "  away_club_formation_code net_transfer_record_home_num  \\\n",
       "0                      NaN                          NaN   \n",
       "\n",
       "  net_transfer_record_away_num stadium_code stadium_name_home_code  \\\n",
       "0                          NaN          NaN                    NaN   \n",
       "\n",
       "  stadium_name_away_code  \n",
       "0                    NaN  "
      ]
     },
     "execution_count": 4,
     "metadata": {},
     "output_type": "execute_result"
    }
   ],
   "source": [
    "df"
   ]
  },
  {
   "cell_type": "code",
   "execution_count": 5,
   "id": "bc6b59d6",
   "metadata": {},
   "outputs": [],
   "source": [
    "with open('./example/example.json', 'r', encoding='utf-8') as f:\n",
    "    request = json.load(f)"
   ]
  },
  {
   "cell_type": "markdown",
   "id": "b4a0fb74",
   "metadata": {},
   "source": [
    "# Формування датасету"
   ]
  },
  {
   "cell_type": "code",
   "execution_count": 6,
   "id": "f7b86ccc",
   "metadata": {},
   "outputs": [],
   "source": [
    "competitions = pd.read_csv('../../../data/raw/competitions.csv')"
   ]
  },
  {
   "cell_type": "code",
   "execution_count": 7,
   "id": "8765f180",
   "metadata": {},
   "outputs": [],
   "source": [
    "games = pd.read_csv('../../../data/raw/games.csv')"
   ]
  },
  {
   "cell_type": "code",
   "execution_count": 8,
   "id": "47ce2818",
   "metadata": {},
   "outputs": [],
   "source": [
    "clubs = pd.read_csv('./transformers/clubs_mod.csv')"
   ]
  },
  {
   "cell_type": "code",
   "execution_count": 9,
   "id": "f63dab12",
   "metadata": {},
   "outputs": [],
   "source": [
    "df['competition_id'] = competitions[competitions['competition_code'] == request['competition_code']]['competition_id'].iloc[0]"
   ]
  },
  {
   "cell_type": "code",
   "execution_count": 10,
   "id": "5928df32",
   "metadata": {},
   "outputs": [],
   "source": [
    "df['season'] = pd.to_datetime(request['date']).year"
   ]
  },
  {
   "cell_type": "code",
   "execution_count": 11,
   "id": "74a17af6",
   "metadata": {},
   "outputs": [],
   "source": [
    "df['round'] = games['round'].mode()[0]"
   ]
  },
  {
   "cell_type": "code",
   "execution_count": 12,
   "id": "a2da7f93",
   "metadata": {},
   "outputs": [],
   "source": [
    "df['home_club_id'] = clubs[clubs['name'] == request['home_club_name']]['club_id'].values\n",
    "df['away_club_id'] = clubs[clubs['name'] == request['away_club_name']]['club_id'].values"
   ]
  },
  {
   "cell_type": "code",
   "execution_count": 13,
   "id": "d187503e",
   "metadata": {},
   "outputs": [],
   "source": [
    "# df['home_club_position'] = games['home_club_position'].mode()[0]\n",
    "# df['away_club_position'] = games['away_club_position'].mode()[0]\n",
    "df['home_club_position'] = 3\n",
    "df['away_club_position'] = 3"
   ]
  },
  {
   "cell_type": "code",
   "execution_count": 14,
   "id": "f7e74700",
   "metadata": {},
   "outputs": [],
   "source": [
    "df['home_club_manager_name'] = games['home_club_manager_name'].mode()[0]\n",
    "df['away_club_manager_name'] = games['away_club_manager_name'].mode()[0]"
   ]
  },
  {
   "cell_type": "code",
   "execution_count": 15,
   "id": "802669bb",
   "metadata": {},
   "outputs": [],
   "source": [
    "# attendance\n",
    "df['attendance'] = request['attendance']\n",
    "\n",
    "# referee\n",
    "df['referee'] = request['referee']"
   ]
  },
  {
   "cell_type": "code",
   "execution_count": 16,
   "id": "c3d531d5",
   "metadata": {},
   "outputs": [
    {
     "name": "stderr",
     "output_type": "stream",
     "text": [
      "C:\\Users\\ACER\\AppData\\Local\\Temp\\ipykernel_5496\\1960889964.py:1: FutureWarning: Series.__getitem__ treating keys as positions is deprecated. In a future version, integer keys will always be treated as labels (consistent with DataFrame behavior). To access a value by position, use `ser.iloc[pos]`\n",
      "  df[['name', 'sub_type', 'type', 'country_id', 'is_major_national_league']] = competitions[competitions['competition_code'] == request['competition_code']][['name', 'sub_type', 'type', 'country_id', 'is_major_national_league']].iloc[0]\n"
     ]
    }
   ],
   "source": [
    "df[['name', 'sub_type', 'type', 'country_id', 'is_major_national_league']] = competitions[competitions['competition_code'] == request['competition_code']][['name', 'sub_type', 'type', 'country_id', 'is_major_national_league']].iloc[0]"
   ]
  },
  {
   "cell_type": "code",
   "execution_count": 17,
   "id": "f8abfdd6",
   "metadata": {},
   "outputs": [],
   "source": [
    "df[[\n",
    "    'squad_size_home',\n",
    "    'average_age_home', 'foreigners_number_home',\n",
    "    'foreigners_percentage_home', 'national_team_players_home',\n",
    "    'stadium_seats_home', 'last_season_home', 'total_market_value_home',\n",
    "    'total_market_value_max_home', 'total_is_win_home',\n",
    "]] = clubs[clubs['club_id'] == df['home_club_id'].values[0]][[\n",
    "    'squad_size',\n",
    "    'average_age', 'foreigners_number', 'foreigners_percentage',\n",
    "    'national_team_players', 'stadium_seats',\n",
    "    'last_season',\n",
    "    'total_market_value', 'total_market_value_max', 'total_is_win'\n",
    "]].values"
   ]
  },
  {
   "cell_type": "code",
   "execution_count": 18,
   "id": "4db240c3",
   "metadata": {},
   "outputs": [],
   "source": [
    "df[[\n",
    "    'squad_size_away',\n",
    "    'average_age_away', 'foreigners_number_away',\n",
    "    'foreigners_percentage_away', 'national_team_players_away',\n",
    "    'stadium_seats_away', 'last_season_away', 'total_market_value_away',\n",
    "    'total_market_value_max_away', 'total_is_win_away',\n",
    "]] = clubs[clubs['club_id'] == df['away_club_id'].values[0]][[\n",
    "    'squad_size',\n",
    "    'average_age', 'foreigners_number', 'foreigners_percentage',\n",
    "    'national_team_players', 'stadium_seats',\n",
    "    'last_season',\n",
    "    'total_market_value', 'total_market_value_max', 'total_is_win'\n",
    "]].values"
   ]
  },
  {
   "cell_type": "code",
   "execution_count": 19,
   "id": "dbc60eb9",
   "metadata": {},
   "outputs": [],
   "source": [
    "df['year'] = pd.to_datetime(request['date']).year\n",
    "df['month'] = pd.to_datetime(request['date']).month\n",
    "df['day'] = pd.to_datetime(request['date']).day\n",
    "df['dayofweek'] = pd.to_datetime(request['date']).dayofweek"
   ]
  },
  {
   "cell_type": "code",
   "execution_count": 20,
   "id": "fe54111c",
   "metadata": {},
   "outputs": [],
   "source": [
    "formation_code_map = joblib.load('./transformers/formation_code_map.joblib')\n",
    "\n",
    "df['home_club_formation_code'] = formation_code_map[request['home_club_formation']]\n",
    "df['away_club_formation_code'] = formation_code_map[request['away_club_formation']]"
   ]
  },
  {
   "cell_type": "code",
   "execution_count": 21,
   "id": "20552775",
   "metadata": {},
   "outputs": [],
   "source": [
    "def parse_transfer_value(value):\n",
    "    if pd.isnull(value):\n",
    "        return None\n",
    "    value = value.replace('€', '').replace('+', '').replace(' ', '')\n",
    "    sign = -1 if '-' in value else 1\n",
    "    value = value.replace('-', '')\n",
    "    if value.endswith('m'):\n",
    "        num = float(value[:-1]) * 1_000_000\n",
    "    elif value.endswith('k'):\n",
    "        num = float(value[:-1]) * 1_000\n",
    "    else:\n",
    "        num = float(value)\n",
    "    return sign * num\n",
    "\n",
    "# Приклад для DataFrame:\n",
    "df['net_transfer_record_home_num'] = clubs[clubs['club_id'] == df['home_club_id'].values[0]]['net_transfer_record'].apply(parse_transfer_value).iloc[0]\n",
    "df['net_transfer_record_away_num'] = clubs[clubs['club_id'] == df['away_club_id'].values[0]]['net_transfer_record'].apply(parse_transfer_value).iloc[0]"
   ]
  },
  {
   "cell_type": "code",
   "execution_count": 22,
   "id": "87afed94",
   "metadata": {},
   "outputs": [],
   "source": [
    "df['stadium_code'] = request['stadium']"
   ]
  },
  {
   "cell_type": "code",
   "execution_count": 23,
   "id": "cbe3f112",
   "metadata": {},
   "outputs": [],
   "source": [
    "df['stadium_name_home_code'] = clubs[clubs['club_id'] == df['home_club_id'].values[0]]['stadium_name'].iloc[0]\n",
    "df['stadium_name_away_code'] = clubs[clubs['club_id'] == df['away_club_id'].values[0]]['stadium_name'].iloc[0]"
   ]
  },
  {
   "cell_type": "code",
   "execution_count": 24,
   "id": "8add72c2",
   "metadata": {},
   "outputs": [
    {
     "data": {
      "text/html": [
       "<div>\n",
       "<style scoped>\n",
       "    .dataframe tbody tr th:only-of-type {\n",
       "        vertical-align: middle;\n",
       "    }\n",
       "\n",
       "    .dataframe tbody tr th {\n",
       "        vertical-align: top;\n",
       "    }\n",
       "\n",
       "    .dataframe thead th {\n",
       "        text-align: right;\n",
       "    }\n",
       "</style>\n",
       "<table border=\"1\" class=\"dataframe\">\n",
       "  <thead>\n",
       "    <tr style=\"text-align: right;\">\n",
       "      <th></th>\n",
       "      <th>competition_id</th>\n",
       "      <th>season</th>\n",
       "      <th>round</th>\n",
       "      <th>home_club_id</th>\n",
       "      <th>away_club_id</th>\n",
       "      <th>home_club_position</th>\n",
       "      <th>away_club_position</th>\n",
       "      <th>home_club_manager_name</th>\n",
       "      <th>away_club_manager_name</th>\n",
       "      <th>attendance</th>\n",
       "      <th>referee</th>\n",
       "      <th>name</th>\n",
       "      <th>sub_type</th>\n",
       "      <th>type</th>\n",
       "      <th>country_id</th>\n",
       "      <th>is_major_national_league</th>\n",
       "      <th>squad_size_home</th>\n",
       "      <th>average_age_home</th>\n",
       "      <th>foreigners_number_home</th>\n",
       "      <th>foreigners_percentage_home</th>\n",
       "      <th>national_team_players_home</th>\n",
       "      <th>stadium_seats_home</th>\n",
       "      <th>last_season_home</th>\n",
       "      <th>total_market_value_home</th>\n",
       "      <th>total_market_value_max_home</th>\n",
       "      <th>total_is_win_home</th>\n",
       "      <th>squad_size_away</th>\n",
       "      <th>average_age_away</th>\n",
       "      <th>foreigners_number_away</th>\n",
       "      <th>foreigners_percentage_away</th>\n",
       "      <th>national_team_players_away</th>\n",
       "      <th>stadium_seats_away</th>\n",
       "      <th>last_season_away</th>\n",
       "      <th>total_market_value_away</th>\n",
       "      <th>total_market_value_max_away</th>\n",
       "      <th>total_is_win_away</th>\n",
       "      <th>year</th>\n",
       "      <th>month</th>\n",
       "      <th>day</th>\n",
       "      <th>dayofweek</th>\n",
       "      <th>home_club_formation_code</th>\n",
       "      <th>away_club_formation_code</th>\n",
       "      <th>net_transfer_record_home_num</th>\n",
       "      <th>net_transfer_record_away_num</th>\n",
       "      <th>stadium_code</th>\n",
       "      <th>stadium_name_home_code</th>\n",
       "      <th>stadium_name_away_code</th>\n",
       "    </tr>\n",
       "  </thead>\n",
       "  <tbody>\n",
       "    <tr>\n",
       "      <th>0</th>\n",
       "      <td>FRCH</td>\n",
       "      <td>2025</td>\n",
       "      <td>First Round</td>\n",
       "      <td>1421</td>\n",
       "      <td>347</td>\n",
       "      <td>3</td>\n",
       "      <td>3</td>\n",
       "      <td>Diego Simeone</td>\n",
       "      <td>Diego Simeone</td>\n",
       "      <td>21684</td>\n",
       "      <td>Eric Wattellier</td>\n",
       "      <td>trophee-des-champions</td>\n",
       "      <td>domestic_super_cup</td>\n",
       "      <td>other</td>\n",
       "      <td>50</td>\n",
       "      <td>False</td>\n",
       "      <td>25.0</td>\n",
       "      <td>24.9</td>\n",
       "      <td>19.0</td>\n",
       "      <td>76.0</td>\n",
       "      <td>8.0</td>\n",
       "      <td>20519.0</td>\n",
       "      <td>2024.0</td>\n",
       "      <td>146625000.0</td>\n",
       "      <td>259050000.0</td>\n",
       "      <td>119.0</td>\n",
       "      <td>26.0</td>\n",
       "      <td>25.0</td>\n",
       "      <td>19.0</td>\n",
       "      <td>73.1</td>\n",
       "      <td>7.0</td>\n",
       "      <td>28786.0</td>\n",
       "      <td>2023.0</td>\n",
       "      <td>68450000.0</td>\n",
       "      <td>237125000.0</td>\n",
       "      <td>58.0</td>\n",
       "      <td>2025</td>\n",
       "      <td>5</td>\n",
       "      <td>29</td>\n",
       "      <td>3</td>\n",
       "      <td>0</td>\n",
       "      <td>0</td>\n",
       "      <td>39350000.0</td>\n",
       "      <td>21900000.0</td>\n",
       "      <td>Stade Auguste-Delaune</td>\n",
       "      <td>Stade Auguste-Delaune</td>\n",
       "      <td>Stade Saint-Symphorien</td>\n",
       "    </tr>\n",
       "  </tbody>\n",
       "</table>\n",
       "</div>"
      ],
      "text/plain": [
       "  competition_id  season        round  home_club_id  away_club_id  \\\n",
       "0           FRCH    2025  First Round          1421           347   \n",
       "\n",
       "   home_club_position  away_club_position home_club_manager_name  \\\n",
       "0                   3                   3          Diego Simeone   \n",
       "\n",
       "  away_club_manager_name  attendance          referee                   name  \\\n",
       "0          Diego Simeone       21684  Eric Wattellier  trophee-des-champions   \n",
       "\n",
       "             sub_type   type  country_id  is_major_national_league  \\\n",
       "0  domestic_super_cup  other          50                     False   \n",
       "\n",
       "   squad_size_home  average_age_home  foreigners_number_home  \\\n",
       "0             25.0              24.9                    19.0   \n",
       "\n",
       "   foreigners_percentage_home  national_team_players_home  stadium_seats_home  \\\n",
       "0                        76.0                         8.0             20519.0   \n",
       "\n",
       "   last_season_home  total_market_value_home  total_market_value_max_home  \\\n",
       "0            2024.0              146625000.0                  259050000.0   \n",
       "\n",
       "   total_is_win_home  squad_size_away  average_age_away  \\\n",
       "0              119.0             26.0              25.0   \n",
       "\n",
       "   foreigners_number_away  foreigners_percentage_away  \\\n",
       "0                    19.0                        73.1   \n",
       "\n",
       "   national_team_players_away  stadium_seats_away  last_season_away  \\\n",
       "0                         7.0             28786.0            2023.0   \n",
       "\n",
       "   total_market_value_away  total_market_value_max_away  total_is_win_away  \\\n",
       "0               68450000.0                  237125000.0               58.0   \n",
       "\n",
       "   year  month  day  dayofweek  home_club_formation_code  \\\n",
       "0  2025      5   29          3                         0   \n",
       "\n",
       "   away_club_formation_code  net_transfer_record_home_num  \\\n",
       "0                         0                    39350000.0   \n",
       "\n",
       "   net_transfer_record_away_num           stadium_code stadium_name_home_code  \\\n",
       "0                    21900000.0  Stade Auguste-Delaune  Stade Auguste-Delaune   \n",
       "\n",
       "   stadium_name_away_code  \n",
       "0  Stade Saint-Symphorien  "
      ]
     },
     "execution_count": 24,
     "metadata": {},
     "output_type": "execute_result"
    }
   ],
   "source": [
    "df"
   ]
  },
  {
   "cell_type": "code",
   "execution_count": 25,
   "id": "6988ec3c",
   "metadata": {},
   "outputs": [],
   "source": [
    "df.to_csv('./example/formulated_request.csv', index=False)"
   ]
  },
  {
   "cell_type": "markdown",
   "id": "11bf78c7",
   "metadata": {},
   "source": [
    "# Обробка даних"
   ]
  },
  {
   "cell_type": "code",
   "execution_count": 26,
   "id": "36913c18",
   "metadata": {},
   "outputs": [],
   "source": [
    "stadium_code_map = joblib.load('./transformers/stadium_code_map.joblib')\n",
    "\n",
    "df['stadium_code'] = df['stadium_code'].astype(str).map(stadium_code_map)\n",
    "df['stadium_name_home_code'] = df['stadium_name_home_code'].astype(str).map(stadium_code_map)\n",
    "df['stadium_name_away_code'] = df['stadium_name_away_code'].astype(str).map(stadium_code_map)"
   ]
  },
  {
   "cell_type": "code",
   "execution_count": 27,
   "id": "1707faca",
   "metadata": {},
   "outputs": [],
   "source": [
    "from numpy import dtype\n",
    "\n",
    "factorize_maps = joblib.load('../res/transformers/label_encoding_maps.joblib')\n",
    "\n",
    "def factorize_value(col, value):\n",
    "    try:\n",
    "        return factorize_maps[col].index(value)\n",
    "    except ValueError:\n",
    "        return -1\n",
    "\n",
    "for col in [c for c in df.columns if df[c].dtype == dtype('O')]:\n",
    "    df[col] = df[col].apply(lambda x: factorize_value(col, x))"
   ]
  },
  {
   "cell_type": "markdown",
   "id": "8529c1d9",
   "metadata": {},
   "source": [
    "### Нормалізація"
   ]
  },
  {
   "cell_type": "code",
   "execution_count": 28,
   "id": "5c199dca",
   "metadata": {},
   "outputs": [],
   "source": [
    "scaler = joblib.load('./transformers/scaler.joblib')\n",
    "\n",
    "cols_for_norm = df.drop('is_major_national_league', axis=1).columns\n",
    "df[cols_for_norm] = scaler.transform(df[cols_for_norm])"
   ]
  },
  {
   "cell_type": "code",
   "execution_count": 30,
   "id": "b7c3e1c4",
   "metadata": {},
   "outputs": [],
   "source": [
    "df['is_major_national_league'] = df['is_major_national_league'].astype(float)"
   ]
  },
  {
   "cell_type": "code",
   "execution_count": 31,
   "id": "f56cf86a",
   "metadata": {},
   "outputs": [
    {
     "data": {
      "text/html": [
       "<div>\n",
       "<style scoped>\n",
       "    .dataframe tbody tr th:only-of-type {\n",
       "        vertical-align: middle;\n",
       "    }\n",
       "\n",
       "    .dataframe tbody tr th {\n",
       "        vertical-align: top;\n",
       "    }\n",
       "\n",
       "    .dataframe thead th {\n",
       "        text-align: right;\n",
       "    }\n",
       "</style>\n",
       "<table border=\"1\" class=\"dataframe\">\n",
       "  <thead>\n",
       "    <tr style=\"text-align: right;\">\n",
       "      <th></th>\n",
       "      <th>competition_id</th>\n",
       "      <th>season</th>\n",
       "      <th>round</th>\n",
       "      <th>home_club_id</th>\n",
       "      <th>away_club_id</th>\n",
       "      <th>home_club_position</th>\n",
       "      <th>away_club_position</th>\n",
       "      <th>home_club_manager_name</th>\n",
       "      <th>away_club_manager_name</th>\n",
       "      <th>attendance</th>\n",
       "      <th>referee</th>\n",
       "      <th>name</th>\n",
       "      <th>sub_type</th>\n",
       "      <th>type</th>\n",
       "      <th>country_id</th>\n",
       "      <th>is_major_national_league</th>\n",
       "      <th>squad_size_home</th>\n",
       "      <th>average_age_home</th>\n",
       "      <th>foreigners_number_home</th>\n",
       "      <th>foreigners_percentage_home</th>\n",
       "      <th>national_team_players_home</th>\n",
       "      <th>stadium_seats_home</th>\n",
       "      <th>last_season_home</th>\n",
       "      <th>total_market_value_home</th>\n",
       "      <th>total_market_value_max_home</th>\n",
       "      <th>total_is_win_home</th>\n",
       "      <th>squad_size_away</th>\n",
       "      <th>average_age_away</th>\n",
       "      <th>foreigners_number_away</th>\n",
       "      <th>foreigners_percentage_away</th>\n",
       "      <th>national_team_players_away</th>\n",
       "      <th>stadium_seats_away</th>\n",
       "      <th>last_season_away</th>\n",
       "      <th>total_market_value_away</th>\n",
       "      <th>total_market_value_max_away</th>\n",
       "      <th>total_is_win_away</th>\n",
       "      <th>year</th>\n",
       "      <th>month</th>\n",
       "      <th>day</th>\n",
       "      <th>dayofweek</th>\n",
       "      <th>home_club_formation_code</th>\n",
       "      <th>away_club_formation_code</th>\n",
       "      <th>net_transfer_record_home_num</th>\n",
       "      <th>net_transfer_record_away_num</th>\n",
       "      <th>stadium_code</th>\n",
       "      <th>stadium_name_home_code</th>\n",
       "      <th>stadium_name_away_code</th>\n",
       "    </tr>\n",
       "  </thead>\n",
       "  <tbody>\n",
       "    <tr>\n",
       "      <th>0</th>\n",
       "      <td>4.519153</td>\n",
       "      <td>1.908896</td>\n",
       "      <td>3.302116</td>\n",
       "      <td>-0.211531</td>\n",
       "      <td>-0.338251</td>\n",
       "      <td>-1.254505</td>\n",
       "      <td>-1.281171</td>\n",
       "      <td>-1.139683</td>\n",
       "      <td>-1.002943</td>\n",
       "      <td>0.09364</td>\n",
       "      <td>0.871778</td>\n",
       "      <td>4.634384</td>\n",
       "      <td>6.377698</td>\n",
       "      <td>5.439214</td>\n",
       "      <td>-0.922011</td>\n",
       "      <td>0.0</td>\n",
       "      <td>-0.116712</td>\n",
       "      <td>-0.545324</td>\n",
       "      <td>0.932925</td>\n",
       "      <td>1.312298</td>\n",
       "      <td>0.178833</td>\n",
       "      <td>-0.503274</td>\n",
       "      <td>0.4655</td>\n",
       "      <td>-0.211487</td>\n",
       "      <td>-0.392191</td>\n",
       "      <td>-0.489859</td>\n",
       "      <td>0.0404</td>\n",
       "      <td>-0.490333</td>\n",
       "      <td>0.933726</td>\n",
       "      <td>1.155821</td>\n",
       "      <td>0.002316</td>\n",
       "      <td>-0.074278</td>\n",
       "      <td>0.059587</td>\n",
       "      <td>-0.495792</td>\n",
       "      <td>-0.435796</td>\n",
       "      <td>-0.998675</td>\n",
       "      <td>1.767628</td>\n",
       "      <td>-0.433761</td>\n",
       "      <td>1.473068</td>\n",
       "      <td>-0.838094</td>\n",
       "      <td>-0.786416</td>\n",
       "      <td>-0.811003</td>\n",
       "      <td>1.191974</td>\n",
       "      <td>0.69951</td>\n",
       "      <td>-1.364131</td>\n",
       "      <td>-1.386368</td>\n",
       "      <td>0.178353</td>\n",
       "    </tr>\n",
       "  </tbody>\n",
       "</table>\n",
       "</div>"
      ],
      "text/plain": [
       "   competition_id    season     round  home_club_id  away_club_id  \\\n",
       "0        4.519153  1.908896  3.302116     -0.211531     -0.338251   \n",
       "\n",
       "   home_club_position  away_club_position  home_club_manager_name  \\\n",
       "0           -1.254505           -1.281171               -1.139683   \n",
       "\n",
       "   away_club_manager_name  attendance   referee      name  sub_type      type  \\\n",
       "0               -1.002943     0.09364  0.871778  4.634384  6.377698  5.439214   \n",
       "\n",
       "   country_id  is_major_national_league  squad_size_home  average_age_home  \\\n",
       "0   -0.922011                       0.0        -0.116712         -0.545324   \n",
       "\n",
       "   foreigners_number_home  foreigners_percentage_home  \\\n",
       "0                0.932925                    1.312298   \n",
       "\n",
       "   national_team_players_home  stadium_seats_home  last_season_home  \\\n",
       "0                    0.178833           -0.503274            0.4655   \n",
       "\n",
       "   total_market_value_home  total_market_value_max_home  total_is_win_home  \\\n",
       "0                -0.211487                    -0.392191          -0.489859   \n",
       "\n",
       "   squad_size_away  average_age_away  foreigners_number_away  \\\n",
       "0           0.0404         -0.490333                0.933726   \n",
       "\n",
       "   foreigners_percentage_away  national_team_players_away  stadium_seats_away  \\\n",
       "0                    1.155821                    0.002316           -0.074278   \n",
       "\n",
       "   last_season_away  total_market_value_away  total_market_value_max_away  \\\n",
       "0          0.059587                -0.495792                    -0.435796   \n",
       "\n",
       "   total_is_win_away      year     month       day  dayofweek  \\\n",
       "0          -0.998675  1.767628 -0.433761  1.473068  -0.838094   \n",
       "\n",
       "   home_club_formation_code  away_club_formation_code  \\\n",
       "0                 -0.786416                 -0.811003   \n",
       "\n",
       "   net_transfer_record_home_num  net_transfer_record_away_num  stadium_code  \\\n",
       "0                      1.191974                       0.69951     -1.364131   \n",
       "\n",
       "   stadium_name_home_code  stadium_name_away_code  \n",
       "0               -1.386368                0.178353  "
      ]
     },
     "execution_count": 31,
     "metadata": {},
     "output_type": "execute_result"
    }
   ],
   "source": [
    "df"
   ]
  },
  {
   "cell_type": "code",
   "execution_count": 1,
   "id": "5e50356b",
   "metadata": {},
   "outputs": [],
   "source": [
    "import torch\n",
    "from torch import nn"
   ]
  },
  {
   "cell_type": "code",
   "execution_count": 2,
   "id": "d53d8ce7",
   "metadata": {},
   "outputs": [],
   "source": [
    "class MyModel(nn.Module):\n",
    "    def __init__(self, input, output):\n",
    "        super().__init__()\n",
    "        self.model = nn.Sequential(\n",
    "            nn.Linear(input, 256),\n",
    "            nn.BatchNorm1d(256),\n",
    "            nn.ReLU(),\n",
    "            nn.Dropout(0.5),\n",
    "\n",
    "            nn.Linear(256, 64),\n",
    "            nn.BatchNorm1d(64),\n",
    "            nn.ReLU(),\n",
    "            nn.Dropout(0.5),\n",
    "\n",
    "            nn.Linear(64, 8),\n",
    "            nn.BatchNorm1d(8),\n",
    "            nn.ReLU(),\n",
    "            nn.Dropout(0.5),\n",
    "\n",
    "            nn.Linear(8, output)\n",
    "        )\n",
    "\n",
    "    def forward(self, x):\n",
    "        x = self.model(x)\n",
    "\n",
    "        return x"
   ]
  },
  {
   "cell_type": "code",
   "execution_count": 3,
   "id": "2f641a38",
   "metadata": {},
   "outputs": [],
   "source": [
    "model_i = torch.load('./models/model_state_dict_epoch_11.pt', weights_only=False)"
   ]
  },
  {
   "cell_type": "code",
   "execution_count": 4,
   "id": "2d608f42",
   "metadata": {},
   "outputs": [
    {
     "data": {
      "text/plain": [
       "47"
      ]
     },
     "execution_count": 4,
     "metadata": {},
     "output_type": "execute_result"
    }
   ],
   "source": [
    "len(model_i['X_columns'])"
   ]
  },
  {
   "cell_type": "code",
   "execution_count": 5,
   "id": "d34d104c",
   "metadata": {},
   "outputs": [
    {
     "ename": "NameError",
     "evalue": "name 'joblib' is not defined",
     "output_type": "error",
     "traceback": [
      "\u001b[31m---------------------------------------------------------------------------\u001b[39m",
      "\u001b[31mNameError\u001b[39m                                 Traceback (most recent call last)",
      "\u001b[36mCell\u001b[39m\u001b[36m \u001b[39m\u001b[32mIn[5]\u001b[39m\u001b[32m, line 1\u001b[39m\n\u001b[32m----> \u001b[39m\u001b[32m1\u001b[39m X = \u001b[43mjoblib\u001b[49m.load(\u001b[33m'\u001b[39m\u001b[33m./transformers/X_columns.joblib\u001b[39m\u001b[33m'\u001b[39m)\n\u001b[32m      2\u001b[39m \u001b[38;5;28mlen\u001b[39m(X)\n",
      "\u001b[31mNameError\u001b[39m: name 'joblib' is not defined"
     ]
    }
   ],
   "source": [
    "X = joblib.load('./transformers/X_columns.joblib')\n",
    "len(X)"
   ]
  },
  {
   "cell_type": "code",
   "execution_count": 6,
   "id": "b1ba631d",
   "metadata": {},
   "outputs": [],
   "source": [
    "model = MyModel(len(model_i['X_columns']), len(model_i['y_columns']))"
   ]
  },
  {
   "cell_type": "code",
   "execution_count": 7,
   "id": "5dab8a61",
   "metadata": {},
   "outputs": [
    {
     "data": {
      "text/plain": [
       "<All keys matched successfully>"
      ]
     },
     "execution_count": 7,
     "metadata": {},
     "output_type": "execute_result"
    }
   ],
   "source": [
    "model.load_state_dict(model_i['state_model'])"
   ]
  },
  {
   "cell_type": "code",
   "execution_count": 9,
   "id": "bca7373d",
   "metadata": {},
   "outputs": [],
   "source": [
    "import pandas as pd\n",
    "df = pd.read_csv('./example/encoded.csv')"
   ]
  },
  {
   "cell_type": "code",
   "execution_count": 10,
   "id": "dadc8d45",
   "metadata": {},
   "outputs": [
    {
     "data": {
      "text/plain": [
       "competition_id                  float64\n",
       "season                          float64\n",
       "round                           float64\n",
       "home_club_id                    float64\n",
       "away_club_id                    float64\n",
       "home_club_position              float64\n",
       "away_club_position              float64\n",
       "home_club_manager_name          float64\n",
       "away_club_manager_name          float64\n",
       "attendance                      float64\n",
       "referee                         float64\n",
       "name                            float64\n",
       "sub_type                        float64\n",
       "type                            float64\n",
       "country_id                      float64\n",
       "is_major_national_league        float64\n",
       "squad_size_home                 float64\n",
       "average_age_home                float64\n",
       "foreigners_number_home          float64\n",
       "foreigners_percentage_home      float64\n",
       "national_team_players_home      float64\n",
       "stadium_seats_home              float64\n",
       "last_season_home                float64\n",
       "total_market_value_home         float64\n",
       "total_market_value_max_home     float64\n",
       "total_is_win_home               float64\n",
       "squad_size_away                 float64\n",
       "average_age_away                float64\n",
       "foreigners_number_away          float64\n",
       "foreigners_percentage_away      float64\n",
       "national_team_players_away      float64\n",
       "stadium_seats_away              float64\n",
       "last_season_away                float64\n",
       "total_market_value_away         float64\n",
       "total_market_value_max_away     float64\n",
       "total_is_win_away               float64\n",
       "year                            float64\n",
       "month                           float64\n",
       "day                             float64\n",
       "dayofweek                       float64\n",
       "home_club_formation_code        float64\n",
       "away_club_formation_code        float64\n",
       "net_transfer_record_home_num    float64\n",
       "net_transfer_record_away_num    float64\n",
       "stadium_code                    float64\n",
       "stadium_name_home_code          float64\n",
       "stadium_name_away_code          float64\n",
       "dtype: object"
      ]
     },
     "execution_count": 10,
     "metadata": {},
     "output_type": "execute_result"
    }
   ],
   "source": [
    "df.dtypes"
   ]
  },
  {
   "cell_type": "code",
   "execution_count": 13,
   "id": "d509b710",
   "metadata": {},
   "outputs": [],
   "source": [
    "model.eval()\n",
    "pred = model(torch.tensor(df.values, dtype=torch.float32))"
   ]
  },
  {
   "cell_type": "code",
   "execution_count": 14,
   "id": "d497c24d",
   "metadata": {},
   "outputs": [
    {
     "data": {
      "text/plain": [
       "tensor([[0.2278, 0.1041]], grad_fn=<AddmmBackward0>)"
      ]
     },
     "execution_count": 14,
     "metadata": {},
     "output_type": "execute_result"
    }
   ],
   "source": [
    "pred"
   ]
  },
  {
   "cell_type": "code",
   "execution_count": 16,
   "id": "a1925a32",
   "metadata": {},
   "outputs": [],
   "source": [
    "torch.save(model, './models/model_11.pt')"
   ]
  },
  {
   "cell_type": "code",
   "execution_count": 18,
   "id": "2ab99307",
   "metadata": {},
   "outputs": [],
   "source": [
    "model_11 = torch.load('./models/model_11.pt', weights_only=False)"
   ]
  },
  {
   "cell_type": "code",
   "execution_count": 19,
   "id": "47504875",
   "metadata": {},
   "outputs": [
    {
     "data": {
      "text/plain": [
       "tensor([[0.2278, 0.1041]], grad_fn=<AddmmBackward0>)"
      ]
     },
     "execution_count": 19,
     "metadata": {},
     "output_type": "execute_result"
    }
   ],
   "source": [
    "pred = model_11(torch.tensor(df.values, dtype=torch.float32))\n",
    "pred"
   ]
  }
 ],
 "metadata": {
  "kernelspec": {
   "display_name": "Python 3",
   "language": "python",
   "name": "python3"
  },
  "language_info": {
   "codemirror_mode": {
    "name": "ipython",
    "version": 3
   },
   "file_extension": ".py",
   "mimetype": "text/x-python",
   "name": "python",
   "nbconvert_exporter": "python",
   "pygments_lexer": "ipython3",
   "version": "3.12.2"
  }
 },
 "nbformat": 4,
 "nbformat_minor": 5
}
