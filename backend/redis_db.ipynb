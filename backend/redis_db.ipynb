{
 "cells": [
  {
   "cell_type": "code",
   "execution_count": 1,
   "id": "85bcee31",
   "metadata": {},
   "outputs": [
    {
     "name": "stdout",
     "output_type": "stream",
     "text": [
      "Успішно підключено до Redis!\n"
     ]
    }
   ],
   "source": [
    "import redis\n",
    "\n",
    "# Підключення до Redis\n",
    "# За замовчуванням: host='localhost', port=6379, db=0\n",
    "r = redis.Redis(host='localhost', port=6379, db=0)\n",
    "\n",
    "# Перевірка підключення\n",
    "try:\n",
    "    r.ping()\n",
    "    print(\"Успішно підключено до Redis!\")\n",
    "except redis.exceptions.ConnectionError as e:\n",
    "    print(f\"Помилка підключення до Redis: {e}\")"
   ]
  },
  {
   "cell_type": "code",
   "execution_count": null,
   "id": "53f16e2d",
   "metadata": {},
   "outputs": [],
   "source": [
    "# Встановлення значення (SET key value)\n",
    "r.set('mykey', 'Привіт, Redis!')\n",
    "print(f\"Значення 'mykey' встановлено.\")\n",
    "\n",
    "# Встановлення значення з часом життя (TTL) в секундах (SETEX key seconds value)\n",
    "r.setex('temp_key', 60, 'Це тимчасове значення') # Зникне через 60 секунд\n",
    "print(f\"Значення 'temp_key' встановлено на 60 секунд.\")"
   ]
  },
  {
   "cell_type": "code",
   "execution_count": 4,
   "id": "3daf2c8a",
   "metadata": {},
   "outputs": [
    {
     "name": "stdout",
     "output_type": "stream",
     "text": [
      "Значення 'mykey': Привіт, Redis!\n",
      "Ключ 'temp_key' не знайдено або термін дії закінчився.\n"
     ]
    }
   ],
   "source": [
    "# Отримання значення (GET key)\n",
    "value = r.get('mykey')\n",
    "if value:\n",
    "    print(f\"Значення 'mykey': {value.decode('utf-8')}\")\n",
    "else:\n",
    "    print(f\"Ключ 'mykey' не знайдено.\")\n",
    "\n",
    "temp_value = r.get('temp_key')\n",
    "if temp_value:\n",
    "    print(f\"Значення 'temp_key': {temp_value.decode('utf-8')}\")\n",
    "else:\n",
    "    print(f\"Ключ 'temp_key' не знайдено або термін дії закінчився.\")"
   ]
  },
  {
   "cell_type": "code",
   "execution_count": null,
   "id": "bd582128",
   "metadata": {},
   "outputs": [
    {
     "name": "stdout",
     "output_type": "stream",
     "text": [
      "Ключ 'mykey' видалено.\n",
      "Ключ 'mykey' більше не існує.\n"
     ]
    }
   ],
   "source": [
    "# Видалення ключа (DEL key)\n",
    "r.delete('mykey')\n",
    "print(f\"Ключ 'mykey' видалено.\")\n",
    "\n",
    "# Перевірка, що ключ більше не існує\n",
    "deleted_value = r.get('mykey')\n",
    "if deleted_value is None:\n",
    "    print(f\"Ключ 'mykey' більше не існує.\")"
   ]
  },
  {
   "cell_type": "code",
   "execution_count": 9,
   "id": "aff8e503",
   "metadata": {},
   "outputs": [
    {
     "name": "stdout",
     "output_type": "stream",
     "text": [
      "Хеш 'user:100' збережено.\n",
      "Ім'я користувача 100: Олена\n",
      "Всі дані користувача 100:\n",
      "  name: Олена\n",
      "  email: olena@example.com\n",
      "  age: 30\n"
     ]
    }
   ],
   "source": [
    "# Збереження хешу (HSET hash_name field value)\n",
    "r.hset('user:100', mapping={\n",
    "    'name': 'Олена',\n",
    "    'email': 'olena@example.com',\n",
    "    'age': 30\n",
    "})\n",
    "print(\"Хеш 'user:100' збережено.\")\n",
    "\n",
    "# Отримання поля з хешу (HGET hash_name field)\n",
    "user_name = r.hget('user:100', 'name')\n",
    "if user_name:\n",
    "    print(f\"Ім'я користувача 100: {user_name.decode('utf-8')}\")\n",
    "\n",
    "# Отримання всіх полів хешу (HGETALL hash_name)\n",
    "user_data = r.hgetall('user:100')\n",
    "print(\"Всі дані користувача 100:\")\n",
    "for field, value in user_data.items():\n",
    "    print(f\"  {field.decode('utf-8')}: {value.decode('utf-8')}\")"
   ]
  },
  {
   "cell_type": "code",
   "execution_count": 10,
   "id": "4acd8f6f",
   "metadata": {},
   "outputs": [
    {
     "name": "stdout",
     "output_type": "stream",
     "text": [
      "Додано задачі до 'task_queue'.\n",
      "Виконано задачу: Задача 1\n",
      "Залишилось задач:\n",
      "  Задача 2\n",
      "  Задача 3\n"
     ]
    }
   ],
   "source": [
    "# Додавання елементів у список справа (RPUSH list_name element1 element2 ...)\n",
    "r.rpush('task_queue', 'Задача 1', 'Задача 2', 'Задача 3')\n",
    "print(\"Додано задачі до 'task_queue'.\")\n",
    "\n",
    "# Отримання елементів зі списку зліва (LPOP list_name)\n",
    "task = r.lpop('task_queue')\n",
    "if task:\n",
    "    print(f\"Виконано задачу: {task.decode('utf-8')}\")\n",
    "\n",
    "# Отримання всіх елементів списку (LRANGE list_name start end)\n",
    "all_tasks = r.lrange('task_queue', 0, -1)\n",
    "print(\"Залишилось задач:\")\n",
    "for t in all_tasks:\n",
    "    print(f\"  {t.decode('utf-8')}\")"
   ]
  },
  {
   "cell_type": "code",
   "execution_count": 11,
   "id": "4d1b5220",
   "metadata": {},
   "outputs": [
    {
     "name": "stdout",
     "output_type": "stream",
     "text": [
      "Додано відвідувачів до 'unique_visitors'.\n",
      "Унікальні відвідувачі:\n",
      "  user_c\n",
      "  user_a\n",
      "  user_b\n",
      "user_b є серед унікальних відвідувачів.\n"
     ]
    }
   ],
   "source": [
    "# Додавання елементів до множини (SADD set_name member1 member2 ...)\n",
    "r.sadd('unique_visitors', 'user_a', 'user_b', 'user_a', 'user_c') # 'user_a' додасться лише раз\n",
    "print(\"Додано відвідувачів до 'unique_visitors'.\")\n",
    "\n",
    "# Отримання всіх членів множини (SMEMBERS set_name)\n",
    "visitors = r.smembers('unique_visitors')\n",
    "print(\"Унікальні відвідувачі:\")\n",
    "for v in visitors:\n",
    "    print(f\"  {v.decode('utf-8')}\")\n",
    "\n",
    "# Перевірка наявності члена в множині (SISMEMBER set_name member)\n",
    "if r.sismember('unique_visitors', 'user_b'):\n",
    "    print(\"user_b є серед унікальних відвідувачів.\")"
   ]
  },
  {
   "cell_type": "code",
   "execution_count": 12,
   "id": "74e30599",
   "metadata": {},
   "outputs": [
    {
     "name": "stdout",
     "output_type": "stream",
     "text": [
      "Отримуємо дані для item_id=1 з бази даних...\n",
      "Дані для item_id=1 збережено в кеші.\n",
      "Дані для Item 1 з БД\n",
      "Отримано дані для item_id=1 з кешу.\n",
      "Дані для Item 1 з БД\n",
      "Отримуємо дані для item_id=2 з бази даних...\n",
      "Дані для item_id=2 збережено в кеші.\n",
      "Дані для Item 2 з БД\n"
     ]
    }
   ],
   "source": [
    "def get_data_from_db(item_id):\n",
    "    \"\"\"Імітація отримання даних з бази даних\"\"\"\n",
    "    print(f\"Отримуємо дані для item_id={item_id} з бази даних...\")\n",
    "    # У реальному застосунку тут був би виклик до БД\n",
    "    return f\"Дані для Item {item_id} з БД\"\n",
    "\n",
    "def get_item_data(item_id):\n",
    "    cache_key = f\"item_data:{item_id}\"\n",
    "    \n",
    "    # Спроба отримати дані з кешу\n",
    "    cached_data = r.get(cache_key)\n",
    "    if cached_data:\n",
    "        print(f\"Отримано дані для item_id={item_id} з кешу.\")\n",
    "        return cached_data.decode('utf-8')\n",
    "    \n",
    "    # Якщо даних немає в кеші, отримуємо їх з БД\n",
    "    data = get_data_from_db(item_id)\n",
    "    \n",
    "    # Зберігаємо дані в кеші з TTL (наприклад, 300 секунд = 5 хвилин)\n",
    "    r.setex(cache_key, 300, data)\n",
    "    print(f\"Дані для item_id={item_id} збережено в кеші.\")\n",
    "    return data\n",
    "\n",
    "print(get_item_data(1)) # Перший виклик: з БД, кешується\n",
    "print(get_item_data(1)) # Другий виклик: з кешу\n",
    "print(get_item_data(2)) # Новий елемент: з БД, кешується"
   ]
  },
  {
   "cell_type": "code",
   "execution_count": 13,
   "id": "570fdac5",
   "metadata": {},
   "outputs": [
    {
     "name": "stdout",
     "output_type": "stream",
     "text": [
      "Результати виконання пайплайну:\n",
      "True\n",
      "True\n",
      "b'value1'\n",
      "1\n",
      "3\n"
     ]
    }
   ],
   "source": [
    "pipe = r.pipeline() # Створення пайплайну\n",
    "\n",
    "# Додаємо команди до пайплайну\n",
    "pipe.set('key1', 'value1')\n",
    "pipe.set('key2', 'value2')\n",
    "pipe.get('key1')\n",
    "pipe.delete('key2')\n",
    "pipe.sadd('myset', 'a', 'b', 'c')\n",
    "\n",
    "# Виконуємо всі команди за один раз\n",
    "results = pipe.execute()\n",
    "print(\"Результати виконання пайплайну:\")\n",
    "for res in results:\n",
    "    print(res)"
   ]
  },
  {
   "cell_type": "code",
   "execution_count": 16,
   "id": "513e2e93",
   "metadata": {},
   "outputs": [
    {
     "name": "stdout",
     "output_type": "stream",
     "text": [
      "Лічильник збільшено до: 3\n"
     ]
    }
   ],
   "source": [
    "# Транзакція з WATCH (для оптимістичного блокування)\n",
    "with r.pipeline() as pipe:\n",
    "    while True:\n",
    "        try:\n",
    "            pipe.watch('mycounter') # Спостерігаємо за ключем\n",
    "            current_value = pipe.get('mycounter')\n",
    "            current_value = int(current_value.decode('utf-8')) if current_value else 0\n",
    "\n",
    "            # Починаємо транзакцію\n",
    "            pipe.multi()\n",
    "            pipe.set('mycounter', current_value + 1)\n",
    "            \n",
    "            # Виконуємо транзакцію\n",
    "            pipe.execute()\n",
    "            print(f\"Лічильник збільшено до: {current_value + 1}\")\n",
    "            break # Успішно завершено\n",
    "        except redis.exceptions.WatchError:\n",
    "            print(\"Конфлікт: ключ 'mycounter' змінився. Повторна спроба.\")\n",
    "            # Повторюємо операцію, якщо ключ змінився"
   ]
  },
  {
   "cell_type": "code",
   "execution_count": 17,
   "id": "434c5992",
   "metadata": {},
   "outputs": [
    {
     "name": "stdout",
     "output_type": "stream",
     "text": [
      "\n",
      "--- Лічильник переглядів ---\n",
      "Перегляди сторінки 'home': 1\n",
      "Перегляди сторінки 'about': 1\n",
      "Перегляди сторінки 'home': 2\n",
      "Перегляди сторінки 'contact': 1\n",
      "Перегляди сторінки 'home': 3\n",
      "Всього переглядів 'home': 3\n",
      "Всього переглядів 'about': 1\n",
      "\n",
      "Лічильники очищені.\n"
     ]
    }
   ],
   "source": [
    "import redis\n",
    "import time\n",
    "\n",
    "r = redis.Redis(host='localhost', port=6379, db=0)\n",
    "\n",
    "def increment_page_views(page_id):\n",
    "    key = f\"page_views:{page_id}\"\n",
    "    \n",
    "    # INCRBY збільшує значення ключа на задану величину (або на 1, якщо не вказано)\n",
    "    # Якщо ключ не існує, він створюється зі значенням 0 перед інкрементом.\n",
    "    count = r.incr(key)\n",
    "    print(f\"Перегляди сторінки '{page_id}': {count}\")\n",
    "    return count\n",
    "\n",
    "def get_page_views(page_id):\n",
    "    key = f\"page_views:{page_id}\"\n",
    "    count = r.get(key)\n",
    "    return int(count.decode('utf-8')) if count else 0\n",
    "\n",
    "print(\"\\n--- Лічильник переглядів ---\")\n",
    "increment_page_views(\"home\")\n",
    "increment_page_views(\"about\")\n",
    "increment_page_views(\"home\")\n",
    "increment_page_views(\"contact\")\n",
    "increment_page_views(\"home\")\n",
    "\n",
    "print(f\"Всього переглядів 'home': {get_page_views('home')}\")\n",
    "print(f\"Всього переглядів 'about': {get_page_views('about')}\")\n",
    "\n",
    "# Очистимо для наступного запуску (опціонально)\n",
    "r.delete(\"page_views:home\", \"page_views:about\", \"page_views:contact\")\n",
    "print(\"\\nЛічильники очищені.\")"
   ]
  }
 ],
 "metadata": {
  "kernelspec": {
   "display_name": "Python 3",
   "language": "python",
   "name": "python3"
  },
  "language_info": {
   "codemirror_mode": {
    "name": "ipython",
    "version": 3
   },
   "file_extension": ".py",
   "mimetype": "text/x-python",
   "name": "python",
   "nbconvert_exporter": "python",
   "pygments_lexer": "ipython3",
   "version": "3.12.2"
  }
 },
 "nbformat": 4,
 "nbformat_minor": 5
}
