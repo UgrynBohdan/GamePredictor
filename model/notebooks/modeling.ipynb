{
 "cells": [
  {
   "cell_type": "code",
   "execution_count": 1,
   "id": "60a5bbd6",
   "metadata": {},
   "outputs": [],
   "source": [
    "import pandas as pd"
   ]
  },
  {
   "cell_type": "code",
   "execution_count": 2,
   "id": "63247115",
   "metadata": {},
   "outputs": [],
   "source": [
    "df = pd.read_csv('../../data/processed/df_res.csv')"
   ]
  },
  {
   "cell_type": "code",
   "execution_count": 4,
   "id": "36923289",
   "metadata": {},
   "outputs": [
    {
     "name": "stdout",
     "output_type": "stream",
     "text": [
      "(38850, 46)\n",
      "<class 'pandas.core.frame.DataFrame'>\n",
      "RangeIndex: 38850 entries, 0 to 38849\n",
      "Data columns (total 46 columns):\n",
      " #   Column                             Non-Null Count  Dtype  \n",
      "---  ------                             --------------  -----  \n",
      " 0   game_id                            38850 non-null  int64  \n",
      " 1   competition_id                     38850 non-null  float64\n",
      " 2   season                             38850 non-null  float64\n",
      " 3   round                              38850 non-null  float64\n",
      " 4   date                               38850 non-null  object \n",
      " 5   home_club_id                       38850 non-null  float64\n",
      " 6   away_club_id                       38850 non-null  float64\n",
      " 7   home_club_goals                    38850 non-null  float64\n",
      " 8   away_club_goals                    38850 non-null  float64\n",
      " 9   home_club_position                 38850 non-null  float64\n",
      " 10  away_club_position                 38850 non-null  float64\n",
      " 11  home_club_manager_name             38850 non-null  float64\n",
      " 12  away_club_manager_name             38850 non-null  float64\n",
      " 13  stadium                            38850 non-null  float64\n",
      " 14  attendance                         38850 non-null  float64\n",
      " 15  referee                            38850 non-null  float64\n",
      " 16  home_club_formation                38850 non-null  object \n",
      " 17  away_club_formation                38850 non-null  object \n",
      " 18  domestic_competition_id_home_club  38850 non-null  float64\n",
      " 19  squad_size_home_club               38850 non-null  float64\n",
      " 20  average_age_home_club              38850 non-null  float64\n",
      " 21  foreigners_number_home_club        38850 non-null  float64\n",
      " 22  national_team_players_home_club    38850 non-null  float64\n",
      " 23  stadium_name_home_club             38850 non-null  float64\n",
      " 24  stadium_seats_home_club            38850 non-null  float64\n",
      " 25  net_transfer_record_home_club      38850 non-null  object \n",
      " 26  last_season_home_club              38850 non-null  float64\n",
      " 27  domestic_competition_id_away_club  38850 non-null  float64\n",
      " 28  squad_size_away_club               38850 non-null  float64\n",
      " 29  average_age_away_club              38850 non-null  float64\n",
      " 30  foreigners_number_away_club        38850 non-null  float64\n",
      " 31  national_team_players_away_club    38850 non-null  float64\n",
      " 32  stadium_name_away_club             38850 non-null  float64\n",
      " 33  stadium_seats_away_club            38850 non-null  float64\n",
      " 34  net_transfer_record_away_club      38850 non-null  object \n",
      " 35  last_season_away_club              38850 non-null  float64\n",
      " 36  country_id                         38850 non-null  float64\n",
      " 37  is_major_national_league           38850 non-null  bool   \n",
      " 38  year                               38850 non-null  float64\n",
      " 39  month                              38850 non-null  float64\n",
      " 40  day                                38850 non-null  float64\n",
      " 41  dayofweek                          38850 non-null  float64\n",
      " 42  home_club_formation_code           38850 non-null  float64\n",
      " 43  away_club_formation_code           38850 non-null  float64\n",
      " 44  net_transfer_record_home_club_num  38850 non-null  float64\n",
      " 45  net_transfer_record_away_club_num  38850 non-null  float64\n",
      "dtypes: bool(1), float64(39), int64(1), object(5)\n",
      "memory usage: 13.4+ MB\n"
     ]
    }
   ],
   "source": [
    "print(df.shape)\n",
    "df.info()"
   ]
  },
  {
   "cell_type": "code",
   "execution_count": 5,
   "id": "af539126",
   "metadata": {},
   "outputs": [
    {
     "data": {
      "text/plain": [
       "Index(['game_id', 'competition_id', 'season', 'round', 'date', 'home_club_id',\n",
       "       'away_club_id', 'home_club_goals', 'away_club_goals',\n",
       "       'home_club_position', 'away_club_position', 'home_club_manager_name',\n",
       "       'away_club_manager_name', 'stadium', 'attendance', 'referee',\n",
       "       'home_club_formation', 'away_club_formation',\n",
       "       'domestic_competition_id_home_club', 'squad_size_home_club',\n",
       "       'average_age_home_club', 'foreigners_number_home_club',\n",
       "       'national_team_players_home_club', 'stadium_name_home_club',\n",
       "       'stadium_seats_home_club', 'net_transfer_record_home_club',\n",
       "       'last_season_home_club', 'domestic_competition_id_away_club',\n",
       "       'squad_size_away_club', 'average_age_away_club',\n",
       "       'foreigners_number_away_club', 'national_team_players_away_club',\n",
       "       'stadium_name_away_club', 'stadium_seats_away_club',\n",
       "       'net_transfer_record_away_club', 'last_season_away_club', 'country_id',\n",
       "       'is_major_national_league', 'year', 'month', 'day', 'dayofweek',\n",
       "       'home_club_formation_code', 'away_club_formation_code',\n",
       "       'net_transfer_record_home_club_num',\n",
       "       'net_transfer_record_away_club_num'],\n",
       "      dtype='object')"
      ]
     },
     "execution_count": 5,
     "metadata": {},
     "output_type": "execute_result"
    }
   ],
   "source": [
    "df.columns"
   ]
  },
  {
   "cell_type": "code",
   "execution_count": 6,
   "id": "4f57fca7",
   "metadata": {},
   "outputs": [],
   "source": [
    "from sklearn.model_selection import train_test_split\n",
    "from sklearn.ensemble import RandomForestRegressor\n",
    "from sklearn.metrics import mean_absolute_error, mean_squared_error, r2_score\n",
    "import numpy as np"
   ]
  },
  {
   "cell_type": "code",
   "execution_count": 7,
   "id": "f004e651",
   "metadata": {},
   "outputs": [],
   "source": [
    "# Припускаємо, що ваш підготовлений DataFrame називається df\n",
    "# Переконайтеся, що ваш DataFrame df вже завантажено та оброблено,\n",
    "# і він має структуру, яку ви описали.\n",
    "\n",
    "# Визначення ознак (X) та цільових змінних (y)\n",
    "# Виключаємо game_id, дату та оригінальні object колонки,\n",
    "# якщо їх закодовані числові версії присутні\n",
    "X = df.drop(['game_id', 'date', 'home_club_goals', 'away_club_goals',\n",
    "             'home_club_formation', 'away_club_formation',\n",
    "             'net_transfer_record_home_club', 'net_transfer_record_away_club'], axis=1)\n",
    "\n",
    "y = df[['home_club_goals', 'away_club_goals']] # Цільові змінні\n",
    "\n",
    "# Перевірка, чи залишилися в X нечислові колонки (крім boolean, які RandomForest може обробляти)\n",
    "# Якщо є object колонки, які не були закодовані, їх потрібно обробити.\n",
    "non_numeric_cols = X.select_dtypes(include=['object']).columns\n",
    "if len(non_numeric_cols) > 0:\n",
    "    print(f\"Увага: У наборі ознак X залишилися нечислові колонки: {list(non_numeric_cols)}\")\n",
    "    print(\"RandomForestRegressor не може працювати безпосередньо з object Dtype.\")\n",
    "    print(\"Будь ласка, закодуйте ці колонки (наприклад, One-Hot Encoding) або видаліть їх.\")\n",
    "    # Якщо ви впевнені, що ці колонки не потрібні або були закодовані в інших колонках:\n",
    "    # X = X.drop(non_numeric_cols, axis=1)"
   ]
  },
  {
   "cell_type": "code",
   "execution_count": null,
   "id": "e60877b6",
   "metadata": {},
   "outputs": [],
   "source": [
    "# Перетворення boolean колонки на числову (хоча RandomForest може обробляти bool, явне перетворення не завадить)\n",
    "if 'is_major_national_league' in X.columns:\n",
    "    X['is_major_national_league'] = X['is_major_national_league'].astype(int)"
   ]
  },
  {
   "cell_type": "code",
   "execution_count": 8,
   "id": "95c5368e",
   "metadata": {},
   "outputs": [
    {
     "name": "stdout",
     "output_type": "stream",
     "text": [
      "\n",
      "Розмір навчальної вибірки: 31080 рядків\n",
      "Розмір тестової вибірки: 7770 рядків\n",
      "Кількість ознак: 38\n",
      "Кількість цільових змінних: 2\n"
     ]
    }
   ],
   "source": [
    "# Розбиття даних на навчальну та тестову вибірки\n",
    "# test_size=0.2 означає, що 20% даних піде на тестування, 80% - на навчання\n",
    "# random_state для відтворюваності результатів\n",
    "X_train, X_test, y_train, y_test = train_test_split(X, y, test_size=0.2, random_state=42)\n",
    "\n",
    "print(f\"\\nРозмір навчальної вибірки: {X_train.shape[0]} рядків\")\n",
    "print(f\"Розмір тестової вибірки: {X_test.shape[0]} рядків\")\n",
    "print(f\"Кількість ознак: {X_train.shape[1]}\")\n",
    "print(f\"Кількість цільових змінних: {y_train.shape[1]}\")"
   ]
  },
  {
   "cell_type": "code",
   "execution_count": 9,
   "id": "855c7b5b",
   "metadata": {},
   "outputs": [
    {
     "name": "stdout",
     "output_type": "stream",
     "text": [
      "\n",
      "Навчання моделі RandomForestRegressor...\n",
      "Навчання завершено.\n"
     ]
    }
   ],
   "source": [
    "# --- Створення та навчання моделі RandomForestRegressor ---\n",
    "# n_estimators - кількість дерев у лісі (можна налаштовувати)\n",
    "# random_state для відтворюваності\n",
    "model = RandomForestRegressor(n_estimators=100, random_state=42, n_jobs=-1) # n_jobs=-1 використовує всі доступні ядра процесора\n",
    "\n",
    "print(\"\\nНавчання моделі RandomForestRegressor...\")\n",
    "model.fit(X_train, y_train)\n",
    "print(\"Навчання завершено.\")"
   ]
  },
  {
   "cell_type": "code",
   "execution_count": 10,
   "id": "d8a719d5",
   "metadata": {},
   "outputs": [],
   "source": [
    "# --- Здійснення передбачень на тестовій вибірці ---\n",
    "y_pred = model.predict(X_test)"
   ]
  },
  {
   "cell_type": "code",
   "execution_count": 11,
   "id": "985e4eeb",
   "metadata": {},
   "outputs": [],
   "source": [
    "# Оскільки передбачення можуть бути дробовими, а голи - цілими числами,\n",
    "# часто округлюють передбачення до найближчого цілого невід'ємного числа.\n",
    "y_pred_rounded = np.maximum(0, np.round(y_pred)).astype(int)"
   ]
  },
  {
   "cell_type": "code",
   "execution_count": 12,
   "id": "04a8d1af",
   "metadata": {},
   "outputs": [
    {
     "name": "stdout",
     "output_type": "stream",
     "text": [
      "\n",
      "Оцінка моделі на тестовій вибірці:\n",
      "\n",
      "Для передбачення home_club_goals:\n",
      "  Mean Absolute Error (MAE): 0.9210\n",
      "  Mean Squared Error (MSE): 1.3881\n",
      "  Root Mean Squared Error (RMSE): 1.1782\n",
      "  R-squared (R2): 0.1894\n",
      "\n",
      "Для передбачення away_club_goals:\n",
      "  Mean Absolute Error (MAE): 0.8327\n",
      "  Mean Squared Error (MSE): 1.1247\n",
      "  Root Mean Squared Error (RMSE): 1.0605\n",
      "  R-squared (R2): 0.1659\n",
      "\n",
      "Оцінка округлених передбачень (цілі числа):\n",
      "  Середня абсолютна похибка (MAE) home_club_goals (округлені): 0.8965\n",
      "  Середня абсолютна похибка (MAE) away_club_goals (округлені): 0.8040\n"
     ]
    }
   ],
   "source": [
    "# --- Оцінка якості моделі ---\n",
    "print(\"\\nОцінка моделі на тестовій вибірці:\")\n",
    "\n",
    "# Оцінка для передбачення home_club_goals\n",
    "print(\"\\nДля передбачення home_club_goals:\")\n",
    "mae_home = mean_absolute_error(y_test['home_club_goals'], y_pred[:, 0])\n",
    "mse_home = mean_squared_error(y_test['home_club_goals'], y_pred[:, 0])\n",
    "rmse_home = np.sqrt(mse_home)\n",
    "r2_home = r2_score(y_test['home_club_goals'], y_pred[:, 0])\n",
    "\n",
    "print(f\"  Mean Absolute Error (MAE): {mae_home:.4f}\")\n",
    "print(f\"  Mean Squared Error (MSE): {mse_home:.4f}\")\n",
    "print(f\"  Root Mean Squared Error (RMSE): {rmse_home:.4f}\")\n",
    "print(f\"  R-squared (R2): {r2_home:.4f}\")\n",
    "\n",
    "# Оцінка для передбачення away_club_goals\n",
    "print(\"\\nДля передбачення away_club_goals:\")\n",
    "mae_away = mean_absolute_error(y_test['away_club_goals'], y_pred[:, 1])\n",
    "mse_away = mean_squared_error(y_test['away_club_goals'], y_pred[:, 1])\n",
    "rmse_away = np.sqrt(mse_away)\n",
    "r2_away = r2_score(y_test['away_club_goals'], y_pred[:, 1])\n",
    "\n",
    "print(f\"  Mean Absolute Error (MAE): {mae_away:.4f}\")\n",
    "print(f\"  Mean Squared Error (MSE): {mse_away:.4f}\")\n",
    "print(f\"  Root Mean Squared Error (RMSE): {rmse_away:.4f}\")\n",
    "print(f\"  R-squared (R2): {r2_away:.4f}\")\n",
    "\n",
    "# Оцінка округлених передбачень (якщо потрібно оцінювати саме цілі числа)\n",
    "print(\"\\nОцінка округлених передбачень (цілі числа):\")\n",
    "mae_home_rounded = mean_absolute_error(y_test['home_club_goals'], y_pred_rounded[:, 0])\n",
    "mae_away_rounded = mean_absolute_error(y_test['away_club_goals'], y_pred_rounded[:, 1])\n",
    "\n",
    "print(f\"  Середня абсолютна похибка (MAE) home_club_goals (округлені): {mae_home_rounded:.4f}\")\n",
    "print(f\"  Середня абсолютна похибка (MAE) away_club_goals (округлені): {mae_away_rounded:.4f}\")\n",
    "\n",
    "\n",
    "# --- Приклад використання навченої моделі для передбачення для нового матчу ---\n",
    "# Створіть новий DataFrame з ознаками для матчу, який хочете передбачити.\n",
    "# Переконайтеся, що колонки розташовані в тому ж порядку, що й у X_train.\n",
    "# new_match_features = pd.DataFrame([...], columns=X_train.columns)\n",
    "# predicted_goals = model.predict(new_match_features)\n",
    "# print(\"\\nПередбачені голи для нового матчу:\", np.maximum(0, np.round(predicted_goals)).astype(int))"
   ]
  },
  {
   "cell_type": "code",
   "execution_count": 13,
   "id": "5da4bfd6",
   "metadata": {},
   "outputs": [
    {
     "name": "stdout",
     "output_type": "stream",
     "text": [
      "Абсолютна точність передбачення home_club_goals: 0.3306\n",
      "Абсолютна точність передбачення away_club_goals: 0.3533\n",
      "Абсолютна точність передбачення обох (home та away) голів: 0.1283\n"
     ]
    }
   ],
   "source": [
    "# Припускаємо, що у вас вже є y_test (фактичні значення)\n",
    "# та y_pred_rounded (округлені передбачення моделі)\n",
    "\n",
    "# Точність передбачення home_club_goals\n",
    "exact_accuracy_home = np.mean(y_test['home_club_goals'] == y_pred_rounded[:, 0])\n",
    "print(f\"Абсолютна точність передбачення home_club_goals: {exact_accuracy_home:.4f}\")\n",
    "\n",
    "# Точність передбачення away_club_goals\n",
    "exact_accuracy_away = np.mean(y_test['away_club_goals'] == y_pred_rounded[:, 1])\n",
    "print(f\"Абсолютна точність передбачення away_club_goals: {exact_accuracy_away:.4f}\")\n",
    "\n",
    "# Точність, коли передбачення обох команд EXACTLY співпали з фактичними\n",
    "exact_accuracy_both = np.mean((y_test['home_club_goals'] == y_pred_rounded[:, 0]) &\n",
    "                              (y_test['away_club_goals'] == y_pred_rounded[:, 1]))\n",
    "print(f\"Абсолютна точність передбачення обох (home та away) голів: {exact_accuracy_both:.4f}\")"
   ]
  },
  {
   "cell_type": "code",
   "execution_count": 14,
   "id": "6c15cc44",
   "metadata": {},
   "outputs": [
    {
     "name": "stdout",
     "output_type": "stream",
     "text": [
      "\n",
      "Точність передбачення результату матчу (Перемога/Нічия/Поразка): 0.5625\n"
     ]
    }
   ],
   "source": [
    "# Припускаємо, що у вас вже є y_test (фактичні значення)\n",
    "# та y_pred_rounded (округлені передбачення моделі)\n",
    "\n",
    "# Визначення фактичного результату матчу\n",
    "# 1: Home Win, 0: Draw, -1: Away Win\n",
    "actual_outcome = np.sign(y_test['home_club_goals'] - y_test['away_club_goals'])\n",
    "\n",
    "# Визначення передбаченого результату матчу на основі округлених передбачень\n",
    "predicted_outcome = np.sign(y_pred_rounded[:, 0] - y_pred_rounded[:, 1])\n",
    "\n",
    "# Розрахунок точності (відсоток правильних передбачень результату)\n",
    "match_outcome_accuracy = np.mean(actual_outcome == predicted_outcome)\n",
    "\n",
    "print(f\"\\nТочність передбачення результату матчу (Перемога/Нічия/Поразка): {match_outcome_accuracy:.4f}\")"
   ]
  }
 ],
 "metadata": {
  "kernelspec": {
   "display_name": "Python 3",
   "language": "python",
   "name": "python3"
  },
  "language_info": {
   "codemirror_mode": {
    "name": "ipython",
    "version": 3
   },
   "file_extension": ".py",
   "mimetype": "text/x-python",
   "name": "python",
   "nbconvert_exporter": "python",
   "pygments_lexer": "ipython3",
   "version": "3.12.2"
  }
 },
 "nbformat": 4,
 "nbformat_minor": 5
}
